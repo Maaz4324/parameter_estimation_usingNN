{
 "cells": [
  {
   "cell_type": "code",
   "execution_count": 214,
   "id": "8e9e2ba8-1825-4c02-8e5f-385849940c0d",
   "metadata": {},
   "outputs": [],
   "source": [
    "import pandas as pd\n",
    "import torch\n",
    "import torch.nn as nn\n",
    "import torch.optim as optim\n",
    "from sklearn.model_selection import train_test_split\n",
    "from sklearn.metrics import r2_score\n",
    "from sklearn.cluster import KMeans"
   ]
  },
  {
   "cell_type": "code",
   "execution_count": 215,
   "id": "98dd89b9-0463-4cf5-8cbc-982e333361ba",
   "metadata": {},
   "outputs": [],
   "source": [
    "# Load dataset\n",
    "df = pd.read_csv(\"../sim_og.csv\")"
   ]
  },
  {
   "cell_type": "code",
   "execution_count": 216,
   "id": "417beb22-8dd7-4453-b7ff-455c46bcda2f",
   "metadata": {},
   "outputs": [],
   "source": [
    "X = df[['a', 'q', 'delta_e']].values\n",
    "y = df[['Cd']].values"
   ]
  },
  {
   "cell_type": "code",
   "execution_count": 217,
   "id": "1a14307f-7388-4947-8afc-320cf5dc6a02",
   "metadata": {},
   "outputs": [],
   "source": [
    "# Threshold for early stopping\n",
    "mse_threshold = 1e-10"
   ]
  },
  {
   "cell_type": "code",
   "execution_count": 218,
   "id": "bdb47286-68da-4dc2-8651-96519a61ba7a",
   "metadata": {},
   "outputs": [],
   "source": [
    "max_epochs = 5000\n",
    "hidden_neurons = 20\n",
    "learning_rate = 0.01\n",
    "spread = 9.7\n",
    "# optimizer_name = 'Adam'"
   ]
  },
  {
   "cell_type": "code",
   "execution_count": 219,
   "id": "60ccde70-0728-47bd-bc30-b98748f53439",
   "metadata": {},
   "outputs": [],
   "source": [
    "# Data split (random_state changed every run for variation)\n",
    "X_temp, X_test, y_temp, y_test = train_test_split(X, y, test_size=0.10, random_state=42)\n",
    "X_train, X_val, y_train, y_val = train_test_split(X_temp, y_temp, test_size=0.1111, random_state=42)"
   ]
  },
  {
   "cell_type": "code",
   "execution_count": 220,
   "id": "7cc70b79-86d2-498e-8440-4640aa7b1ecc",
   "metadata": {},
   "outputs": [],
   "source": [
    "# Convert to tensors\n",
    "X_train = torch.tensor(X_train, dtype=torch.float32)\n",
    "y_train = torch.tensor(y_train, dtype=torch.float32)\n",
    "X_val   = torch.tensor(X_val, dtype=torch.float32)\n",
    "y_val   = torch.tensor(y_val, dtype=torch.float32)\n",
    "X_test  = torch.tensor(X_test, dtype=torch.float32)\n",
    "y_test  = torch.tensor(y_test, dtype=torch.float32)"
   ]
  },
  {
   "cell_type": "code",
   "execution_count": 221,
   "id": "fa8aac2d-2d1b-4b5b-b466-f6369c1d6eda",
   "metadata": {},
   "outputs": [
    {
     "name": "stdout",
     "output_type": "stream",
     "text": [
      "(20, 3)\n"
     ]
    }
   ],
   "source": [
    "# Cluster the data using KMeans with k=10\n",
    "kmeans = KMeans(n_clusters=20)\n",
    "kmeans.fit(X_train.cpu().numpy())\n",
    "# find the cluster centers\n",
    "clusters = kmeans.cluster_centers_.astype(float)\n",
    "print(clusters.shape)"
   ]
  },
  {
   "cell_type": "code",
   "execution_count": 222,
   "id": "0b3ee248-b2e2-4960-9e81-4b12ac795054",
   "metadata": {},
   "outputs": [],
   "source": [
    "class RBFnet(nn.Module):\n",
    "    def __init__(self, clusters):\n",
    "        super(RBFnet, self).__init__()\n",
    "        # remember how many centers we have\n",
    "        self.N = clusters.shape[0]\n",
    "        # our mean and sigmas for the RBF layer\n",
    "        self.sigs = nn.Parameter(torch.ones(self.N,dtype=torch.float64)*spread, requires_grad=False ) # our sigmas\n",
    "        self.mus = nn.Parameter(torch.from_numpy(clusters), requires_grad=False ) # our means\n",
    "        \n",
    "        self.linear = nn.Linear(self.N, 1, dtype=torch.float64)\n",
    "\n",
    "    def forward(self, x):\n",
    "        distances = torch.sqrt(((x.unsqueeze(1) - self.mus)**2).sum(dim=2))\n",
    "        # Calculate the Gaussian activations\n",
    "        res = torch.exp((-0.5) * (distances**2) / self.sigs**2)\n",
    "        # Set any NaN values to 0 (in case self.sigs is zero)\n",
    "        res[res != res] = 0.0\n",
    "        \n",
    "        out = self.linear(res)\n",
    "        return out"
   ]
  },
  {
   "cell_type": "code",
   "execution_count": 223,
   "id": "086df837-a5a4-47e9-b83f-fc5b9542c619",
   "metadata": {},
   "outputs": [],
   "source": [
    "model = RBFnet(clusters)"
   ]
  },
  {
   "cell_type": "code",
   "execution_count": 224,
   "id": "df324802-96ba-4ecf-a548-8f7c96b9644f",
   "metadata": {},
   "outputs": [],
   "source": [
    " # Loss and optimizer\n",
    "criterion = nn.MSELoss()\n",
    "optimizer = optim.Adam(model.parameters(), lr=learning_rate)"
   ]
  },
  {
   "cell_type": "code",
   "execution_count": 225,
   "id": "c4289a5b-9bd5-444c-ac2b-383e118ad16e",
   "metadata": {},
   "outputs": [],
   "source": [
    "X_train = X_train.float()\n",
    "y_train = y_train.float()\n",
    "X_val = X_val.float()\n",
    "y_val = y_val.float()\n",
    "\n",
    "model = model.float()\n"
   ]
  },
  {
   "cell_type": "code",
   "execution_count": 226,
   "id": "2408a33d-03b8-4923-be25-4d808af30c4f",
   "metadata": {},
   "outputs": [
    {
     "name": "stdout",
     "output_type": "stream",
     "text": [
      "Epoch 1000/5000, Train Loss: 0.009187841787934303, Val Loss: 0.00908111222088337\n",
      "Epoch 2000/5000, Train Loss: 0.00238828849978745, Val Loss: 0.002431343076750636\n",
      "Epoch 3000/5000, Train Loss: 0.0009619886986911297, Val Loss: 0.0010081761283800006\n",
      "Epoch 4000/5000, Train Loss: 0.0007524691172875464, Val Loss: 0.0007889303960837424\n",
      "Epoch 5000/5000, Train Loss: 0.000674378708936274, Val Loss: 0.0007052643341012299\n"
     ]
    }
   ],
   "source": [
    "# Initialize loss history\n",
    "train_losses = []\n",
    "val_losses = []\n",
    "\n",
    "actual_epochs = 0\n",
    "for epoch in range(max_epochs):\n",
    "    model.train()\n",
    "    outputs = model(X_train)\n",
    "    loss = criterion(outputs, y_train)\n",
    "\n",
    "    optimizer.zero_grad()\n",
    "    loss.backward()\n",
    "    optimizer.step()\n",
    "\n",
    "    actual_epochs = epoch + 1  # Update epoch count\n",
    "    train_losses.append(loss.item())\n",
    "\n",
    "    # Early stopping condition\n",
    "    if loss.item() < mse_threshold:\n",
    "        print(f\"Stopped early at epoch {actual_epochs} (Train Loss < {mse_threshold})\")\n",
    "        break\n",
    "\n",
    "    # Validation\n",
    "    model.eval()\n",
    "    with torch.no_grad():\n",
    "        val_outputs = model(X_val)\n",
    "        val_loss = criterion(val_outputs, y_val)\n",
    "        val_losses.append(val_loss.item())\n",
    "\n",
    "    if (epoch + 1) % 1000 == 0:\n",
    "        print(f\"Epoch {epoch+1}/{max_epochs}, Train Loss: {loss.item():}, Val Loss: {val_loss.item():}\")"
   ]
  },
  {
   "cell_type": "code",
   "execution_count": 227,
   "id": "1412cc3a-8ca3-4973-bb34-2394061c1122",
   "metadata": {},
   "outputs": [
    {
     "data": {
      "image/png": "[encoded data removed]",
      "text/plain": [
       "<Figure size 1000x500 with 1 Axes>"
      ]
     },
     "metadata": {},
     "output_type": "display_data"
    }
   ],
   "source": [
    "import matplotlib.pyplot as plt\n",
    "\n",
    "plt.figure(figsize=(10, 5))\n",
    "plt.plot(train_losses, label='Training Loss')\n",
    "plt.plot(val_losses, label='Validation Loss')\n",
    "plt.xlabel('Epoch')\n",
    "plt.ylabel('MSE Loss')\n",
    "plt.title('Training and Validation Loss over Epochs')\n",
    "plt.legend()\n",
    "plt.grid(True)\n",
    "\n",
    "# Dynamically set y-limits based on max of validation loss\n",
    "plt.ylim(0,0.05)\n",
    "\n",
    "plt.tight_layout()\n",
    "plt.show()\n"
   ]
  },
  {
   "cell_type": "code",
   "execution_count": 228,
   "id": "e7698b9d-0cb2-4242-b883-f861dd58dca5",
   "metadata": {},
   "outputs": [
    {
     "name": "stdout",
     "output_type": "stream",
     "text": [
      "R2 = 0.990380982193877\n",
      "\n",
      "Training stopped at epoch 5000\n",
      "Final Train MSE: 0.000674378708936274\n",
      "Validation MSE: 0.0007052643341012299\n",
      "Test MSE: 0.0008014424238353968\n"
     ]
    }
   ],
   "source": [
    "# Test the model\n",
    "model.eval()\n",
    "with torch.no_grad():\n",
    "    test_outputs = model(X_test)\n",
    "    test_loss = criterion(test_outputs, y_test)\n",
    "    mse = ((y_test - test_outputs) ** 2).mean().item()\n",
    "    r2 = r2_score(y_test, test_outputs)\n",
    "print(f'R2 = {r2}')\n",
    "print(f\"\\nTraining stopped at epoch {actual_epochs}\")\n",
    "print(f\"Final Train MSE: {loss.item():}\")\n",
    "print(f\"Validation MSE: {val_loss.item():}\")\n",
    "print(f\"Test MSE: {test_loss.item():}\")"
   ]
  },
  {
   "cell_type": "code",
   "execution_count": 229,
   "id": "701a9465-91d8-4522-a0ae-97429b955508",
   "metadata": {},
   "outputs": [
    {
     "name": "stdout",
     "output_type": "stream",
     "text": [
      "Model saved as trained_rbfn.pth\n"
     ]
    }
   ],
   "source": [
    "# Save the trained model\n",
    "torch.save(model.state_dict(), \"trained_rbfn.pth\")\n",
    "print(\"Model saved as trained_rbfn.pth\")"
   ]
  },
  {
   "cell_type": "code",
   "execution_count": null,
   "id": "1fed03dc-4159-454c-a7eb-ee21a9cb29f4",
   "metadata": {},
   "outputs": [],
   "source": []
  }
 ],
 "metadata": {
  "kernelspec": {
   "display_name": "Python 3 (ipykernel)",
   "language": "python",
   "name": "python3"
  },
  "language_info": {
   "codemirror_mode": {
    "name": "ipython",
    "version": 3
   },
   "file_extension": ".py",
   "mimetype": "text/x-python",
   "name": "python",
   "nbconvert_exporter": "python",
   "pygments_lexer": "ipython3",
   "version": "3.9.12"
  }
 },
 "nbformat": 4,
 "nbformat_minor": 5
}
