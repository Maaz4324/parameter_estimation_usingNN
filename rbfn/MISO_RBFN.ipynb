{
 "cells": [
  {
   "cell_type": "code",
   "execution_count": 108,
   "id": "345729c5-127b-4eb8-85fb-2c423bb00ce1",
   "metadata": {},
   "outputs": [],
   "source": [
    "import pandas as pd\n",
    "import torch\n",
    "import torch.nn as nn\n",
    "import torch.optim as optim\n",
    "import matplotlib.pyplot as plt"
   ]
  },
  {
   "cell_type": "code",
   "execution_count": 109,
   "id": "99e6fd9e-090b-43c3-9cc4-5fee497349f4",
   "metadata": {},
   "outputs": [],
   "source": [
    "# Load data\n",
    "df = pd.read_csv(\"../Stud_Hansa_Sim_Flight_data.csv\")"
   ]
  },
  {
   "cell_type": "code",
   "execution_count": 110,
   "id": "6a81ac05-a8f7-4e44-90b5-491763047d49",
   "metadata": {},
   "outputs": [],
   "source": [
    "X = df[['Alpha', 'q', 'delta_e']].values  # Shape: (N, 3)\n",
    "y = df[['CD']].values                     # Shape: (N, 1)"
   ]
  },
  {
   "cell_type": "code",
   "execution_count": 111,
   "id": "9ce7b487-5d40-4c59-863e-87705cc6076c",
   "metadata": {},
   "outputs": [],
   "source": [
    "# No unsqueeze needed for already 2D data\n",
    "x = torch.tensor(X, dtype=torch.float32)\n",
    "y = torch.tensor(y, dtype=torch.float32)"
   ]
  },
  {
   "cell_type": "code",
   "execution_count": 112,
   "id": "2ca4b4ef-b36c-4222-9b65-0effa4b7b6d0",
   "metadata": {},
   "outputs": [],
   "source": [
    "# RBF Layer (same as before)\n",
    "class RBFLayer(nn.Module):\n",
    "    def __init__(self, in_features, out_features, sigma=None):\n",
    "        super().__init__()\n",
    "        idx = torch.randint(0, x.size(0), (out_features,))\n",
    "        self.centers = nn.Parameter(x[idx], requires_grad=False)\n",
    "\n",
    "        if sigma is None:\n",
    "            d_max = torch.max(torch.cdist(self.centers, self.centers))\n",
    "            sigma = d_max / torch.sqrt(torch.tensor(out_features, dtype=torch.float))\n",
    "        self.sigma = sigma\n",
    "\n",
    "    def forward(self, input):\n",
    "        x_expand = input.unsqueeze(1).expand(-1, self.centers.size(0), -1)\n",
    "        c_expand = self.centers.unsqueeze(0)\n",
    "        dist = torch.sum((x_expand - c_expand) ** 2, dim=-1)\n",
    "        return torch.exp(-dist / (2 * self.sigma ** 2))"
   ]
  },
  {
   "cell_type": "code",
   "execution_count": 113,
   "id": "323633ab-702b-4607-ac6e-416933a39ba2",
   "metadata": {},
   "outputs": [],
   "source": [
    "# RBF Network\n",
    "class RBFNetwork(nn.Module):\n",
    "    def __init__(self, in_features, hidden_features, out_features):\n",
    "        super().__init__()\n",
    "        self.rbf = RBFLayer(in_features, hidden_features)\n",
    "        self.linear = nn.Linear(hidden_features, out_features)\n",
    "\n",
    "    def forward(self, x):\n",
    "        return self.linear(self.rbf(x))"
   ]
  },
  {
   "cell_type": "code",
   "execution_count": 114,
   "id": "6ce1fa9f-63de-4add-8aac-f2c75f55c355",
   "metadata": {},
   "outputs": [],
   "source": [
    "# Model setup\n",
    "model = RBFNetwork(in_features=3, hidden_features=50, out_features=1)\n",
    "criterion = nn.MSELoss()\n",
    "optimizer = optim.Adam(model.parameters(), lr=0.01)"
   ]
  },
  {
   "cell_type": "code",
   "execution_count": 115,
   "id": "ab8f2a78-fd04-4f4c-89fb-9913c7c335f5",
   "metadata": {},
   "outputs": [
    {
     "name": "stdout",
     "output_type": "stream",
     "text": [
      "Epoch 0, Loss: 0.36943468451500\n",
      "Epoch 100, Loss: 0.00034347150358\n",
      "Epoch 200, Loss: 0.00014216419368\n",
      "Epoch 300, Loss: 0.00008713266288\n",
      "Epoch 400, Loss: 0.00005523994332\n",
      "Epoch 500, Loss: 0.00003598028707\n",
      "Epoch 600, Loss: 0.00002473911991\n",
      "Epoch 700, Loss: 0.00001816444455\n",
      "Epoch 800, Loss: 0.00001415939641\n",
      "Epoch 900, Loss: 0.00001155424798\n",
      "Epoch 1000, Loss: 0.00000972863836\n",
      "Epoch 1100, Loss: 0.00000835660830\n",
      "Epoch 1200, Loss: 0.00000726580447\n",
      "Epoch 1300, Loss: 0.00000636455434\n",
      "Epoch 1400, Loss: 0.00000560311082\n",
      "Epoch 1500, Loss: 0.00000495283894\n",
      "Epoch 1600, Loss: 0.00000439516452\n",
      "Epoch 1700, Loss: 0.00000391616095\n",
      "Epoch 1800, Loss: 0.00000350415917\n",
      "Epoch 1900, Loss: 0.00000314897898\n"
     ]
    }
   ],
   "source": [
    "# Training loop\n",
    "for epoch in range(2000):\n",
    "    optimizer.zero_grad()\n",
    "    output = model(x)\n",
    "    loss = criterion(output, y)\n",
    "    loss.backward()\n",
    "    optimizer.step()\n",
    "    if epoch % 100 == 0:\n",
    "        print(f\"Epoch {epoch}, Loss: {loss.item():.14f}\")\n"
   ]
  },
  {
   "cell_type": "code",
   "execution_count": 116,
   "id": "96ca4d7f-5709-479b-b3a9-b001324d2153",
   "metadata": {},
   "outputs": [
    {
     "name": "stdout",
     "output_type": "stream",
     "text": [
      "\n",
      "Final Loss: 0.0000028445\n",
      "Mean Squared Error (MSE): 0.0000028417\n",
      "R² Score: 0.7605144978\n"
     ]
    }
   ],
   "source": [
    "from sklearn.metrics import mean_squared_error, r2_score\n",
    "# Final predictions\n",
    "predicted = model(x).detach().numpy()\n",
    "true = y.numpy()\n",
    "\n",
    "# Compute MSE and R²\n",
    "mse = mean_squared_error(true, predicted)\n",
    "r2 = r2_score(true, predicted)\n",
    "\n",
    "# Final Loss from last epoch\n",
    "final_loss = loss.item()\n",
    "\n",
    "# Print the metrics\n",
    "print(f\"\\nFinal Loss: {final_loss:.10f}\")\n",
    "print(f\"Mean Squared Error (MSE): {mse:.10f}\")\n",
    "print(f\"R² Score: {r2:.10f}\")\n"
   ]
  },
  {
   "cell_type": "code",
   "execution_count": null,
   "id": "318d2bd8-253e-4cd0-af78-b54c4dcc87a9",
   "metadata": {},
   "outputs": [],
   "source": []
  }
 ],
 "metadata": {
  "kernelspec": {
   "display_name": "Python 3 (ipykernel)",
   "language": "python",
   "name": "python3"
  },
  "language_info": {
   "codemirror_mode": {
    "name": "ipython",
    "version": 3
   },
   "file_extension": ".py",
   "mimetype": "text/x-python",
   "name": "python",
   "nbconvert_exporter": "python",
   "pygments_lexer": "ipython3",
   "version": "3.9.12"
  }
 },
 "nbformat": 4,
 "nbformat_minor": 5
}
