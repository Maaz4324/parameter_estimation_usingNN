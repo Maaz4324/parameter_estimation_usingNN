{
 "cells": [
  {
   "cell_type": "code",
   "execution_count": 24,
   "id": "345729c5-127b-4eb8-85fb-2c423bb00ce1",
   "metadata": {},
   "outputs": [],
   "source": [
    "import pandas as pd\n",
    "import torch\n",
    "import torch.nn as nn\n",
    "import torch.optim as optim\n",
    "import matplotlib.pyplot as plt"
   ]
  },
  {
   "cell_type": "code",
   "execution_count": 25,
   "id": "99e6fd9e-090b-43c3-9cc4-5fee497349f4",
   "metadata": {},
   "outputs": [],
   "source": [
    "# Load data\n",
    "df = pd.read_csv(\"../Stud_Hansa_Sim_Flight_data.csv\")"
   ]
  },
  {
   "cell_type": "code",
   "execution_count": 26,
   "id": "6a81ac05-a8f7-4e44-90b5-491763047d49",
   "metadata": {},
   "outputs": [],
   "source": [
    "X = df[['Alpha', 'q', 'delta_e']].values  # Shape: (N, 3)\n",
    "y = df[['CD']].values                     # Shape: (N, 1)"
   ]
  },
  {
   "cell_type": "code",
   "execution_count": 27,
   "id": "9ce7b487-5d40-4c59-863e-87705cc6076c",
   "metadata": {},
   "outputs": [],
   "source": [
    "# No unsqueeze needed for already 2D data\n",
    "x = torch.tensor(X, dtype=torch.float32)\n",
    "y = torch.tensor(y, dtype=torch.float32)"
   ]
  },
  {
   "cell_type": "code",
   "execution_count": 28,
   "id": "2ca4b4ef-b36c-4222-9b65-0effa4b7b6d0",
   "metadata": {},
   "outputs": [],
   "source": [
    "# RBF Layer (same as before)\n",
    "class RBFLayer(nn.Module):\n",
    "    def __init__(self, in_features, out_features, sigma=None):\n",
    "        super().__init__()\n",
    "        idx = torch.randint(0, x.size(0), (out_features,))\n",
    "        self.centers = nn.Parameter(x[idx], requires_grad=False)\n",
    "\n",
    "        if sigma is None:\n",
    "            d_max = torch.max(torch.cdist(self.centers, self.centers))\n",
    "            sigma = d_max / torch.sqrt(torch.tensor(out_features, dtype=torch.float))\n",
    "        self.sigma = sigma\n",
    "\n",
    "    def forward(self, input):\n",
    "        x_expand = input.unsqueeze(1).expand(-1, self.centers.size(0), -1)\n",
    "        c_expand = self.centers.unsqueeze(0)\n",
    "        dist = torch.sum((x_expand - c_expand) ** 2, dim=-1)\n",
    "        return torch.exp(-dist / (2 * self.sigma ** 2))"
   ]
  },
  {
   "cell_type": "code",
   "execution_count": 29,
   "id": "323633ab-702b-4607-ac6e-416933a39ba2",
   "metadata": {},
   "outputs": [],
   "source": [
    "# RBF Network\n",
    "class RBFNetwork(nn.Module):\n",
    "    def __init__(self, in_features, hidden_features, out_features):\n",
    "        super().__init__()\n",
    "        self.rbf = RBFLayer(in_features, hidden_features)\n",
    "        self.linear = nn.Linear(hidden_features, out_features)\n",
    "\n",
    "    def forward(self, x):\n",
    "        return self.linear(self.rbf(x))"
   ]
  },
  {
   "cell_type": "code",
   "execution_count": 30,
   "id": "6ce1fa9f-63de-4add-8aac-f2c75f55c355",
   "metadata": {},
   "outputs": [],
   "source": [
    "# Model setup\n",
    "model = RBFNetwork(in_features=3, hidden_features=50, out_features=1)\n",
    "criterion = nn.MSELoss()\n",
    "optimizer = optim.Adam(model.parameters(), lr=0.01)"
   ]
  },
  {
   "cell_type": "code",
   "execution_count": 31,
   "id": "ab8f2a78-fd04-4f4c-89fb-9913c7c335f5",
   "metadata": {},
   "outputs": [
    {
     "name": "stdout",
     "output_type": "stream",
     "text": [
      "Epoch 0, Loss: 0.48636436462402\n",
      "Epoch 100, Loss: 0.00354955904186\n",
      "Epoch 200, Loss: 0.00119575636927\n",
      "Epoch 300, Loss: 0.00029068443109\n",
      "Epoch 400, Loss: 0.00006787460734\n",
      "Epoch 500, Loss: 0.00003016276605\n",
      "Epoch 600, Loss: 0.00002537586079\n",
      "Epoch 700, Loss: 0.00002458906602\n",
      "Epoch 800, Loss: 0.00002412812137\n",
      "Epoch 900, Loss: 0.00002367341403\n",
      "Epoch 1000, Loss: 0.00002320554631\n",
      "Epoch 1100, Loss: 0.00002272340862\n",
      "Epoch 1200, Loss: 0.00002222689182\n",
      "Epoch 1300, Loss: 0.00002171625420\n",
      "Epoch 1400, Loss: 0.00002119219243\n",
      "Epoch 1500, Loss: 0.00002065584886\n",
      "Epoch 1600, Loss: 0.00002010864046\n",
      "Epoch 1700, Loss: 0.00001955228981\n",
      "Epoch 1800, Loss: 0.00001898859409\n",
      "Epoch 1900, Loss: 0.00001841955600\n",
      "Epoch 2000, Loss: 0.00001784726373\n",
      "Epoch 2100, Loss: 0.00001727370545\n",
      "Epoch 2200, Loss: 0.00001670091478\n",
      "Epoch 2300, Loss: 0.00001613090535\n",
      "Epoch 2400, Loss: 0.00001556558163\n",
      "Epoch 2500, Loss: 0.00001500677172\n",
      "Epoch 2600, Loss: 0.00001445623184\n",
      "Epoch 2700, Loss: 0.00001391555998\n",
      "Epoch 2800, Loss: 0.00001338623588\n",
      "Epoch 2900, Loss: 0.00001286959468\n",
      "Epoch 3000, Loss: 0.00001236676599\n",
      "Epoch 3100, Loss: 0.00001187875296\n",
      "Epoch 3200, Loss: 0.00001140633412\n",
      "Epoch 3300, Loss: 0.00001095014341\n",
      "Epoch 3400, Loss: 0.00001051058280\n",
      "Epoch 3500, Loss: 0.00001008786057\n",
      "Epoch 3600, Loss: 0.00000968207496\n",
      "Epoch 3700, Loss: 0.00000929311500\n",
      "Epoch 3800, Loss: 0.00000892071239\n",
      "Epoch 3900, Loss: 0.00000856449151\n",
      "Epoch 4000, Loss: 0.00000822399306\n",
      "Epoch 4100, Loss: 0.00000789865862\n",
      "Epoch 4200, Loss: 0.00000758787382\n",
      "Epoch 4300, Loss: 0.00000729100611\n",
      "Epoch 4400, Loss: 0.00000700743794\n",
      "Epoch 4500, Loss: 0.00000673655632\n",
      "Epoch 4600, Loss: 0.00000647780462\n",
      "Epoch 4700, Loss: 0.00000623068672\n",
      "Epoch 4800, Loss: 0.00000599477471\n",
      "Epoch 4900, Loss: 0.00000576972661\n"
     ]
    }
   ],
   "source": [
    "# Training loop\n",
    "for epoch in range(5000):\n",
    "    optimizer.zero_grad()\n",
    "    output = model(x)\n",
    "    loss = criterion(output, y)\n",
    "    loss.backward()\n",
    "    optimizer.step()\n",
    "    if epoch % 100 == 0:\n",
    "        print(f\"Epoch {epoch}, Loss: {loss.item():.14f}\")\n"
   ]
  },
  {
   "cell_type": "code",
   "execution_count": null,
   "id": "96ca4d7f-5709-479b-b3a9-b001324d2153",
   "metadata": {},
   "outputs": [],
   "source": []
  }
 ],
 "metadata": {
  "kernelspec": {
   "display_name": "Python 3 (ipykernel)",
   "language": "python",
   "name": "python3"
  },
  "language_info": {
   "codemirror_mode": {
    "name": "ipython",
    "version": 3
   },
   "file_extension": ".py",
   "mimetype": "text/x-python",
   "name": "python",
   "nbconvert_exporter": "python",
   "pygments_lexer": "ipython3",
   "version": "3.9.12"
  }
 },
 "nbformat": 4,
 "nbformat_minor": 5
}
