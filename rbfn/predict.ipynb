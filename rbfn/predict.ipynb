{
 "cells": [
  {
   "cell_type": "code",
   "execution_count": 92,
   "id": "83aa2e58-9ecd-4eb3-97d3-b9154e0e1efe",
   "metadata": {},
   "outputs": [],
   "source": [
    "import torch\n",
    "import torch.nn as nn\n",
    "import pandas as pd\n",
    "from sklearn.cluster import KMeans"
   ]
  },
  {
   "cell_type": "code",
   "execution_count": 93,
   "id": "c66d92e8-3f17-4d7c-b6fb-61bfdbeca8ac",
   "metadata": {},
   "outputs": [],
   "source": [
    "class RBFnet(nn.Module):\n",
    "    def __init__(self, clusters):\n",
    "        super(RBFnet, self).__init__()\n",
    "        # remember how many centers we have\n",
    "        self.N = clusters.shape[0]\n",
    "        # our mean and sigmas for the RBF layer\n",
    "        self.sigs = nn.Parameter(torch.ones(self.N,dtype=torch.float64)*5, requires_grad=False ) # our sigmas\n",
    "        self.mus = nn.Parameter(torch.from_numpy(clusters), requires_grad=False ) # our means\n",
    "        \n",
    "        self.linear = nn.Linear(self.N, 1, dtype=torch.float64)\n",
    "\n",
    "    def forward(self, x):\n",
    "        distances = torch.sqrt(((x.unsqueeze(1) - self.mus)**2).sum(dim=2))\n",
    "        # Calculate the Gaussian activations\n",
    "        res = torch.exp((-0.5) * (distances**2) / self.sigs**2)\n",
    "        # Set any NaN values to 0 (in case self.sigs is zero)\n",
    "        res[res != res] = 0.0\n",
    "        \n",
    "        out = self.linear(res)\n",
    "        return out"
   ]
  },
  {
   "cell_type": "code",
   "execution_count": 94,
   "id": "5d567ad8-0d78-4f28-8613-8b4f3dda51e1",
   "metadata": {},
   "outputs": [],
   "source": [
    "# Parameters\n",
    "hidden_neurons = 20  # Use same as in training\n",
    "model_path = \"trained_rbfn.pth\"\n",
    "csv_input_path = \"../hansa_test.csv\"\n",
    "csv_output_path = \"predicted_output.csv\""
   ]
  },
  {
   "cell_type": "code",
   "execution_count": 95,
   "id": "453fbb2e-9a4d-4412-9dd4-687b0b607629",
   "metadata": {},
   "outputs": [],
   "source": [
    "\n",
    "# 1. Load input CSV\n",
    "df = pd.read_csv(csv_input_path)\n",
    "input_tensor = torch.tensor(df.values, dtype=torch.float32)  # shape: (N, 3)\n"
   ]
  },
  {
   "cell_type": "code",
   "execution_count": 96,
   "id": "7558ad9b-57c5-4671-a3d9-7c6baccef35a",
   "metadata": {},
   "outputs": [
    {
     "name": "stdout",
     "output_type": "stream",
     "text": [
      "(20, 3)\n"
     ]
    }
   ],
   "source": [
    "# Cluster the data using KMeans with k=10\n",
    "kmeans = KMeans(n_clusters=20)\n",
    "kmeans.fit(input_tensor.cpu().numpy())\n",
    "# find the cluster centers\n",
    "clusters = kmeans.cluster_centers_.astype(float)\n",
    "print(clusters.shape)"
   ]
  },
  {
   "cell_type": "code",
   "execution_count": 97,
   "id": "c933277b-6c1f-441c-950d-12de16ecf1fd",
   "metadata": {},
   "outputs": [
    {
     "data": {
      "text/plain": [
       "RBFnet(\n",
       "  (linear): Linear(in_features=20, out_features=1, bias=True)\n",
       ")"
      ]
     },
     "execution_count": 97,
     "metadata": {},
     "output_type": "execute_result"
    }
   ],
   "source": [
    "\n",
    "# 2. Load model and weights\n",
    "model = RBFnet(clusters)\n",
    "model.load_state_dict(torch.load(model_path))\n",
    "model.eval()"
   ]
  },
  {
   "cell_type": "code",
   "execution_count": 98,
   "id": "1e78fefa-9672-455f-9550-59a92ec17196",
   "metadata": {},
   "outputs": [],
   "source": [
    "# 3. Predict\n",
    "with torch.no_grad():\n",
    "    predictions = model(input_tensor)  # shape: (N, 3)"
   ]
  },
  {
   "cell_type": "code",
   "execution_count": 99,
   "id": "df9b778e-d41a-42d0-9fc8-a55afbf4a947",
   "metadata": {},
   "outputs": [
    {
     "name": "stdout",
     "output_type": "stream",
     "text": [
      "Predictions saved to predicted_output.csv\n"
     ]
    }
   ],
   "source": [
    "# 4. Save predictions to CSV\n",
    "pred_array = predictions.numpy()\n",
    "df_pred = pd.DataFrame(pred_array, columns=[\"Cd\"])\n",
    "df_combined = pd.concat([df, df_pred], axis=1)\n",
    "\n",
    "df_combined.to_csv(csv_output_path, index=False)\n",
    "print(f\"Predictions saved to {csv_output_path}\")"
   ]
  },
  {
   "cell_type": "code",
   "execution_count": null,
   "id": "2fd50e7d-4f91-462f-94e1-66a3afe2f372",
   "metadata": {},
   "outputs": [],
   "source": []
  }
 ],
 "metadata": {
  "kernelspec": {
   "display_name": "Python 3 (ipykernel)",
   "language": "python",
   "name": "python3"
  },
  "language_info": {
   "codemirror_mode": {
    "name": "ipython",
    "version": 3
   },
   "file_extension": ".py",
   "mimetype": "text/x-python",
   "name": "python",
   "nbconvert_exporter": "python",
   "pygments_lexer": "ipython3",
   "version": "3.9.12"
  }
 },
 "nbformat": 4,
 "nbformat_minor": 5
}
