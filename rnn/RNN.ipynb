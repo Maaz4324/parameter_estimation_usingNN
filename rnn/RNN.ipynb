{
 "cells": [
  {
   "cell_type": "code",
   "execution_count": 140,
   "id": "191135df-3c8c-443e-b658-eca6e1da5b23",
   "metadata": {},
   "outputs": [],
   "source": [
    "import torch\n",
    "import torch.nn as nn\n",
    "import torchvision\n",
    "import torchvision.transforms as transforms\n",
    "import pandas as pd\n",
    "from sklearn.model_selection import train_test_split\n",
    "from sklearn.metrics import mean_squared_error, r2_score"
   ]
  },
  {
   "cell_type": "code",
   "execution_count": 141,
   "id": "b3421828-49fe-4be2-8d28-ccc09ce1ac29",
   "metadata": {},
   "outputs": [],
   "source": [
    "\n",
    "# Device configuration\n",
    "device = torch.device('cuda' if torch.cuda.is_available() else 'cpu')"
   ]
  },
  {
   "cell_type": "code",
   "execution_count": 142,
   "id": "9648b000-c95e-417a-98ca-fc8ffa6ddc97",
   "metadata": {},
   "outputs": [],
   "source": [
    "# Hyper-parameters \n",
    "# input_size = 784 # 28x28\n",
    "outputs = 1\n",
    "num_epochs = 2\n",
    "batch_size = 1000\n",
    "learning_rate = 0.001\n",
    "\n",
    "input_size = 3\n",
    "sequence_length = 10002\n",
    "hidden_size = 100\n",
    "num_layers = 1"
   ]
  },
  {
   "cell_type": "code",
   "execution_count": 143,
   "id": "3d533d1c-362b-4f0d-a43e-69f1f5a0c848",
   "metadata": {},
   "outputs": [],
   "source": [
    "# Load dataset\n",
    "df = pd.read_csv(\"../sim_og.csv\")"
   ]
  },
  {
   "cell_type": "code",
   "execution_count": 144,
   "id": "6c2a189c-b7a7-4a87-a839-bc631e35a171",
   "metadata": {},
   "outputs": [],
   "source": [
    "X = df[['a', 'q', 'delta_e']].values\n",
    "y = df[['Cd']].values"
   ]
  },
  {
   "cell_type": "code",
   "execution_count": 145,
   "id": "1e798a3b-9dc4-4afb-9010-d2c688988049",
   "metadata": {},
   "outputs": [],
   "source": [
    "# Sequential split: 80% train, 10% val, 10% test\n",
    "n = len(X)\n",
    "train_end = int(n * 0.8)\n",
    "val_end = int(n * 0.9)\n",
    "\n",
    "X_train, y_train = X[:train_end], y[:train_end]\n",
    "X_val, y_val     = X[train_end:val_end], y[train_end:val_end]\n",
    "X_test, y_test   = X[val_end:], y[val_end:]"
   ]
  },
  {
   "cell_type": "code",
   "execution_count": 146,
   "id": "a2ebdeb7-d716-45fb-99dc-46ae304acded",
   "metadata": {},
   "outputs": [],
   "source": [
    "# Convert to tensors and reshape for RNN input: (batch, sequence, input_size)\n",
    "X_train = torch.tensor(X_train, dtype=torch.float32).unsqueeze(1).to(device)\n",
    "y_train = torch.tensor(y_train, dtype=torch.float32).to(device)\n",
    "X_val   = torch.tensor(X_val, dtype=torch.float32).unsqueeze(1).to(device)\n",
    "y_val   = torch.tensor(y_val, dtype=torch.float32).to(device)\n",
    "X_test  = torch.tensor(X_test, dtype=torch.float32).unsqueeze(1).to(device)\n",
    "y_test  = torch.tensor(y_test, dtype=torch.float32).to(device)"
   ]
  },
  {
   "cell_type": "code",
   "execution_count": 147,
   "id": "d1ea51e3-db37-4d94-bf3c-1148e8d99270",
   "metadata": {},
   "outputs": [],
   "source": [
    "# Fully connected neural network with one hidden layer\n",
    "class RNN(nn.Module):\n",
    "    def __init__(self, input_size, hidden_size, num_layers, outputs):\n",
    "        super(RNN, self).__init__()\n",
    "        self.num_layers = num_layers\n",
    "        self.hidden_size = hidden_size\n",
    "        self.rnn = nn.RNN(input_size, hidden_size, num_layers, batch_first=True)\n",
    "        # -> x needs to be: (batch_size, seq, input_size)\n",
    "        \n",
    "        # or:\n",
    "        #self.gru = nn.GRU(input_size, hidden_size, num_layers, batch_first=True)\n",
    "        #self.lstm = nn.LSTM(input_size, hidden_size, num_layers, batch_first=True)\n",
    "        self.fc = nn.Linear(hidden_size, outputs)\n",
    "        \n",
    "    def forward(self, x):\n",
    "        # Set initial hidden states (and cell states for LSTM)\n",
    "        h0 = torch.zeros(self.num_layers, x.size(0), self.hidden_size).to(device) \n",
    "        #c0 = torch.zeros(self.num_layers, x.size(0), self.hidden_size).to(device) \n",
    "        \n",
    "        # x: (n, 28, 28), h0: (2, n, 128)\n",
    "        \n",
    "        # Forward propagate RNN\n",
    "        out, _ = self.rnn(x, h0)  \n",
    "        # or:\n",
    "        #out, _ = self.lstm(x, (h0,c0))  \n",
    "        \n",
    "        # out: tensor of shape (batch_size, seq_length, hidden_size)\n",
    "        # out: (n, 28, 128)\n",
    "        \n",
    "        # Decode the hidden state of the last time step\n",
    "        out = out[:, -1, :]\n",
    "        # out: (n, 128)\n",
    "         \n",
    "        out = self.fc(out)\n",
    "        # out: (n, 10)\n",
    "        return out"
   ]
  },
  {
   "cell_type": "code",
   "execution_count": 148,
   "id": "dc209be9-b48a-4169-9224-a6f43f1c7680",
   "metadata": {},
   "outputs": [],
   "source": [
    "model = RNN(input_size, hidden_size, num_layers, outputs).to(device)\n",
    "\n",
    "# Loss and optimizer\n",
    "criterion = nn.MSELoss()\n",
    "optimizer = torch.optim.Adam(model.parameters(), lr=learning_rate)  "
   ]
  },
  {
   "cell_type": "code",
   "execution_count": 149,
   "id": "e8238a64-4609-4b55-9014-3c5b1bca434b",
   "metadata": {},
   "outputs": [
    {
     "name": "stdout",
     "output_type": "stream",
     "text": [
      "Epoch 1000/5000, Train Loss: 5.7992865549749695e-06, Val Loss: 0.0002499813854228705\n",
      "Epoch 2000/5000, Train Loss: 2.992344889207743e-06, Val Loss: 0.00015798970707692206\n",
      "Epoch 3000/5000, Train Loss: 1.4821763443251257e-06, Val Loss: 9.694368054624647e-05\n",
      "Epoch 4000/5000, Train Loss: 6.940899197616091e-07, Val Loss: 6.421272701118141e-05\n",
      "Epoch 5000/5000, Train Loss: 6.558212248819473e-07, Val Loss: 5.2685449190903455e-05\n"
     ]
    }
   ],
   "source": [
    "# Initialize loss history\n",
    "train_losses = []\n",
    "val_losses = []\n",
    "\n",
    "actual_epoch = 0\n",
    "max_epochs = 5000\n",
    "for epoch in range(max_epochs):\n",
    "    model.train()\n",
    "    outputs = model(X_train)\n",
    "    loss = criterion(outputs, y_train)\n",
    "\n",
    "    optimizer.zero_grad()\n",
    "    loss.backward()\n",
    "    optimizer.step()\n",
    "\n",
    "    actual_epoch = epoch + 1\n",
    "    train_losses.append(loss.item())\n",
    "\n",
    "    # Validation\n",
    "    model.eval()\n",
    "    with torch.no_grad():\n",
    "        val_outputs = model(X_val)\n",
    "        val_loss = criterion(val_outputs, y_val)\n",
    "        val_losses.append(val_loss.item())\n",
    "\n",
    "    if (epoch + 1) % 1000 == 0:\n",
    "        print(f\"Epoch {epoch+1}/{max_epochs}, Train Loss: {loss.item()}, Val Loss: {val_loss.item()}\")\n"
   ]
  },
  {
   "cell_type": "code",
   "execution_count": 150,
   "id": "e85ca140-d0dd-46ac-a1f6-0522cfa20749",
   "metadata": {},
   "outputs": [
    {
     "data": {
      "image/png": "[encoded data removed]",
      "text/plain": [
       "<Figure size 1000x500 with 1 Axes>"
      ]
     },
     "metadata": {},
     "output_type": "display_data"
    }
   ],
   "source": [
    "import matplotlib.pyplot as plt\n",
    "\n",
    "plt.figure(figsize=(10, 5))\n",
    "plt.plot(train_losses, label='Training Loss')\n",
    "plt.plot(val_losses, label='Validation Loss')\n",
    "plt.xlabel('Epoch')\n",
    "plt.ylabel('MSE Loss')\n",
    "plt.title('Training and Validation Loss over Epochs')\n",
    "plt.legend()\n",
    "plt.grid(True)\n",
    "\n",
    "# Dynamically set y-limits based on max of validation loss\n",
    "plt.ylim(0,0.05)\n",
    "\n",
    "plt.tight_layout()\n",
    "plt.show()\n"
   ]
  },
  {
   "cell_type": "code",
   "execution_count": 151,
   "id": "be20881f-29e1-4bdb-8492-944bf8ed89d0",
   "metadata": {},
   "outputs": [
    {
     "name": "stdout",
     "output_type": "stream",
     "text": [
      "Model saved as trained_rnn.pth\n"
     ]
    }
   ],
   "source": [
    "# Save the trained model\n",
    "torch.save(model.state_dict(), \"trained_rnn.pth\")\n",
    "print(\"Model saved as trained_rnn.pth\")\n"
   ]
  },
  {
   "cell_type": "code",
   "execution_count": null,
   "id": "372257ef-587d-407b-ab39-29a17148c467",
   "metadata": {},
   "outputs": [],
   "source": []
  }
 ],
 "metadata": {
  "kernelspec": {
   "display_name": "Python 3 (ipykernel)",
   "language": "python",
   "name": "python3"
  },
  "language_info": {
   "codemirror_mode": {
    "name": "ipython",
    "version": 3
   },
   "file_extension": ".py",
   "mimetype": "text/x-python",
   "name": "python",
   "nbconvert_exporter": "python",
   "pygments_lexer": "ipython3",
   "version": "3.9.12"
  }
 },
 "nbformat": 4,
 "nbformat_minor": 5
}
