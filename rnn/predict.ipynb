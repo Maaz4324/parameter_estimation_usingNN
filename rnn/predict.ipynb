{
 "cells": [
  {
   "cell_type": "code",
   "execution_count": 92,
   "id": "04789677-1e48-49ad-b8b2-4ab9c8203e44",
   "metadata": {},
   "outputs": [],
   "source": [
    "import torch\n",
    "import torch.nn as nn\n",
    "import pandas as pd"
   ]
  },
  {
   "cell_type": "code",
   "execution_count": 93,
   "id": "6245307e-4fdc-45c0-a51d-8296059092de",
   "metadata": {},
   "outputs": [],
   "source": [
    "# --- Load input features from CSV ---\n",
    "df = pd.read_csv(\"../hansa_test.csv\")  \n",
    "input_tensor = torch.tensor(df.values, dtype=torch.float32)  # shape: (N, features)"
   ]
  },
  {
   "cell_type": "code",
   "execution_count": 94,
   "id": "4a5b20e5-d9cc-4de1-b1fc-fff1a082965c",
   "metadata": {},
   "outputs": [],
   "source": [
    "# Fully connected neural network with one hidden layer\n",
    "class RNN(nn.Module):\n",
    "    def __init__(self, input_size, hidden_size, num_layers, outputs):\n",
    "        super(RNN, self).__init__()\n",
    "        self.num_layers = num_layers\n",
    "        self.hidden_size = hidden_size\n",
    "        self.rnn = nn.RNN(input_size, hidden_size, num_layers, batch_first=True)\n",
    "        # -> x needs to be: (batch_size, seq, input_size)\n",
    "        \n",
    "        # or:\n",
    "        #self.gru = nn.GRU(input_size, hidden_size, num_layers, batch_first=True)\n",
    "        #self.lstm = nn.LSTM(input_size, hidden_size, num_layers, batch_first=True)\n",
    "        self.fc = nn.Linear(hidden_size, outputs)\n",
    "        \n",
    "    def forward(self, x):\n",
    "        # Set initial hidden states (and cell states for LSTM)\n",
    "        h0 = torch.zeros(self.num_layers, x.size(0), self.hidden_size).to(device) \n",
    "        #c0 = torch.zeros(self.num_layers, x.size(0), self.hidden_size).to(device) \n",
    "        \n",
    "        # x: (n, 28, 28), h0: (2, n, 128)\n",
    "        \n",
    "        # Forward propagate RNN\n",
    "        out, _ = self.rnn(x, h0)  \n",
    "        # or:\n",
    "        #out, _ = self.lstm(x, (h0,c0))  \n",
    "        \n",
    "        # out: tensor of shape (batch_size, seq_length, hidden_size)\n",
    "        # out: (n, 28, 128)\n",
    "        \n",
    "        # Decode the hidden state of the last time step\n",
    "        out = out[:, -1, :]\n",
    "        # out: (n, 128)\n",
    "         \n",
    "        out = self.fc(out)\n",
    "        # out: (n, 10)\n",
    "        return out"
   ]
  },
  {
   "cell_type": "code",
   "execution_count": 95,
   "id": "95bd628d-b231-4ecb-b140-73e06fdf405b",
   "metadata": {},
   "outputs": [],
   "source": [
    "# Hyper-parameters \n",
    "# input_size = 784 # 28x28\n",
    "device = torch.device(\"cpu\")\n",
    "# Hyper-parameters \n",
    "# input_size = 784 # 28x28\n",
    "output_size = 1\n",
    "num_epochs = 2\n",
    "batch_size = 1000\n",
    "learning_rate = 0.001\n",
    "\n",
    "input_size = 3\n",
    "sequence_length = 10002\n",
    "hidden_size = 100\n",
    "num_layers = 1"
   ]
  },
  {
   "cell_type": "code",
   "execution_count": 96,
   "id": "f9b60f6f-7178-4057-a217-42f1caed84df",
   "metadata": {},
   "outputs": [
    {
     "data": {
      "text/plain": [
       "RNNRegressor(\n",
       "  (rnn): RNN(3, 100, batch_first=True)\n",
       "  (fc): Linear(in_features=100, out_features=1, bias=True)\n",
       ")"
      ]
     },
     "execution_count": 96,
     "metadata": {},
     "output_type": "execute_result"
    }
   ],
   "source": [
    "# ----------- Load the model ------------------------------------\n",
    "model = RNNRegressor(input_size, hidden_size, num_layers, output_size).to(device)\n",
    "model.load_state_dict(torch.load(\"trained_rnn.pth\"))\n",
    "model.eval()"
   ]
  },
  {
   "cell_type": "code",
   "execution_count": 97,
   "id": "30d806c8-4210-42ae-b382-df3ea83451f5",
   "metadata": {},
   "outputs": [],
   "source": [
    "\n",
    "# ----------- Read input CSV ------------------------------------\n",
    "df = pd.read_csv(\"../hansa_test.csv\")  \n",
    "X_new = df[['Alpha', 'q', 'delta_e']].values\n",
    "X_new_tensor = torch.tensor(X_new, dtype=torch.float32).unsqueeze(1).to(device)  # (batch, se\n"
   ]
  },
  {
   "cell_type": "code",
   "execution_count": 98,
   "id": "f3af39f3-7a89-4120-94b0-36ffe74717a0",
   "metadata": {},
   "outputs": [],
   "source": [
    "# ----------- Make Predictions ----------------------------------\n",
    "with torch.no_grad():\n",
    "    predictions = model(X_new_tensor)\n",
    "    predictions = predictions.cpu().numpy().flatten()  # Convert to 1D array"
   ]
  },
  {
   "cell_type": "code",
   "execution_count": 99,
   "id": "88a35a7b-6806-4397-81b1-dab1e2b4d739",
   "metadata": {},
   "outputs": [
    {
     "name": "stdout",
     "output_type": "stream",
     "text": [
      "Predictions saved to predicted_rnn.csv\n"
     ]
    }
   ],
   "source": [
    "# ----------- Save to output CSV -------------------------------\n",
    "df['Predicted_Cd'] = predictions\n",
    "df.to_csv(\"predicted_rnn.csv\", index=False)\n",
    "\n",
    "print(\"Predictions saved to predicted_rnn.csv\")"
   ]
  },
  {
   "cell_type": "code",
   "execution_count": null,
   "id": "9b532302-5ac8-41ac-bedc-615402c63b3a",
   "metadata": {},
   "outputs": [],
   "source": []
  }
 ],
 "metadata": {
  "kernelspec": {
   "display_name": "Python 3 (ipykernel)",
   "language": "python",
   "name": "python3"
  },
  "language_info": {
   "codemirror_mode": {
    "name": "ipython",
    "version": 3
   },
   "file_extension": ".py",
   "mimetype": "text/x-python",
   "name": "python",
   "nbconvert_exporter": "python",
   "pygments_lexer": "ipython3",
   "version": "3.9.12"
  }
 },
 "nbformat": 4,
 "nbformat_minor": 5
}
