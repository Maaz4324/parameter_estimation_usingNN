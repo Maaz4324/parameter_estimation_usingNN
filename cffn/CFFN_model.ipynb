{
 "cells": [
  {
   "cell_type": "code",
   "execution_count": 70,
   "id": "8a7a9d9f-565f-47cb-a3d8-42fa2caf696c",
   "metadata": {},
   "outputs": [],
   "source": [
    "import torch\n",
    "import torch.nn as nn\n",
    "import numpy as np\n",
    "import torch.optim as optim"
   ]
  },
  {
   "cell_type": "code",
   "execution_count": 71,
   "id": "ab01f371-7d2e-40e9-9f15-25226ff31d22",
   "metadata": {},
   "outputs": [],
   "source": [
    "class CFFN(nn.Module):\n",
    "    def __init__(self):\n",
    "        super(CFFN, self).__init__()\n",
    "        \n",
    "        self.hidden = nn.Linear(3, 5)\n",
    "        self.relu = nn.ReLU()\n",
    "        self.out_from_hidden = nn.Linear(5, 1)\n",
    "        self.out_from_source = nn.Linear(3, 1)\n",
    "\n",
    "    def forward(self, x):\n",
    "        out = self.hidden(x)\n",
    "        out = self.relu(out)\n",
    "        out_h = self.out_from_hidden(out)\n",
    "        out_s = self.out_from_source(x)\n",
    "        out_final = out_s + out_h\n",
    "        return out_final\n",
    "\n",
    "\n"
   ]
  },
  {
   "cell_type": "code",
   "execution_count": 72,
   "id": "6225dac2-4a28-42ab-ab8c-b396137f55e4",
   "metadata": {},
   "outputs": [
    {
     "data": {
      "text/plain": [
       "tensor([[ 2.,  4.,  6.],\n",
       "        [ 3.,  6.,  9.],\n",
       "        [ 4.,  8., 12.]])"
      ]
     },
     "execution_count": 72,
     "metadata": {},
     "output_type": "execute_result"
    }
   ],
   "source": [
    "# Sample input: batch of 4 samples, each with 3 features\n",
    "x = np.array([[2, 4, 6], [3, 6, 9], [4, 8, 12]])\n",
    "x = torch.tensor(x, dtype=torch.float32)\n",
    "x"
   ]
  },
  {
   "cell_type": "code",
   "execution_count": 73,
   "id": "eb8078f9-6c1f-4684-a860-bf16e1116f12",
   "metadata": {},
   "outputs": [
    {
     "data": {
      "text/plain": [
       "tensor([[ 8.],\n",
       "        [12.],\n",
       "        [16.]])"
      ]
     },
     "execution_count": 73,
     "metadata": {},
     "output_type": "execute_result"
    }
   ],
   "source": [
    "y = np.array([[8], [12], [16]])\n",
    "y = torch.tensor(y, dtype=torch.float32)\n",
    "y"
   ]
  },
  {
   "cell_type": "code",
   "execution_count": 74,
   "id": "fdbe7552-83e8-4c7e-9609-a2a5af7ea904",
   "metadata": {},
   "outputs": [],
   "source": [
    "model = CFFN()\n",
    "criterion = nn.MSELoss()\n",
    "optimizer = optim.Adam(model.parameters(), lr=0.01)"
   ]
  },
  {
   "cell_type": "code",
   "execution_count": 75,
   "id": "916bbcf3-8ddf-423a-9183-e0642acc89ba",
   "metadata": {
    "scrolled": true
   },
   "outputs": [
    {
     "name": "stdout",
     "output_type": "stream",
     "text": [
      "Epoch [1/5000] Loss: 548.6035766601562\n",
      "Epoch [1000/5000] Loss: 0.04413565993309021\n",
      "Epoch [2000/5000] Loss: 0.002064397791400552\n",
      "Epoch [3000/5000] Loss: 7.03585965311504e-06\n",
      "Epoch [4000/5000] Loss: 3.838067641481757e-10\n",
      "Epoch [5000/5000] Loss: 3.031649096259942e-13\n"
     ]
    }
   ],
   "source": [
    "#training\n",
    "epochs = 5000\n",
    "for epoch in range(epochs):\n",
    "    model.train()\n",
    "\n",
    "    #forward pass\n",
    "    output = model(x)\n",
    "    loss = criterion(output, y)\n",
    "\n",
    "    #backward pass\n",
    "    optimizer.zero_grad()\n",
    "    loss.backward()\n",
    "    optimizer.step()\n",
    "\n",
    "    # Print loss occasionally\n",
    "    if (epoch+1) % 1000 == 0 or epoch == 0:\n",
    "        print(f\"Epoch [{epoch+1}/{epochs}] Loss: {loss.item():}\")"
   ]
  },
  {
   "cell_type": "code",
   "execution_count": 76,
   "id": "5cc34900-8c5c-4708-9659-b87d9b98df28",
   "metadata": {},
   "outputs": [],
   "source": [
    "# Single input with 3 features (e.g., [x1, x2, x3])\n",
    "input_data = torch.tensor([[5.0, 10.0, 15.0]], dtype=torch.float32)  # shape (1, 3)"
   ]
  },
  {
   "cell_type": "code",
   "execution_count": 77,
   "id": "16cfa176-4bfd-4b64-98b5-8c0ab21bc985",
   "metadata": {},
   "outputs": [
    {
     "name": "stdout",
     "output_type": "stream",
     "text": [
      "Output: tensor([[20.0000]])\n"
     ]
    }
   ],
   "source": [
    "model.eval()  # set model to evaluation mode\n",
    "\n",
    "with torch.no_grad():  # disable gradient calculation\n",
    "    output = model(input_data)\n",
    "\n",
    "print(\"Output:\", output)\n"
   ]
  },
  {
   "cell_type": "code",
   "execution_count": null,
   "id": "984382d1-2f4e-4b9a-aa87-aec6fa68afe5",
   "metadata": {},
   "outputs": [],
   "source": []
  }
 ],
 "metadata": {
  "kernelspec": {
   "display_name": "Python 3 (ipykernel)",
   "language": "python",
   "name": "python3"
  },
  "language_info": {
   "codemirror_mode": {
    "name": "ipython",
    "version": 3
   },
   "file_extension": ".py",
   "mimetype": "text/x-python",
   "name": "python",
   "nbconvert_exporter": "python",
   "pygments_lexer": "ipython3",
   "version": "3.9.12"
  }
 },
 "nbformat": 4,
 "nbformat_minor": 5
}
