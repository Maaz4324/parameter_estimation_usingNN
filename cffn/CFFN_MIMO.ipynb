{
 "cells": [
  {
   "cell_type": "code",
   "execution_count": 37,
   "id": "d749f170-5392-4c6c-9ebc-5a282bdf699a",
   "metadata": {},
   "outputs": [],
   "source": [
    "import pandas as pd\n",
    "import torch\n",
    "import torch.nn as nn\n",
    "import torch.optim as optim\n",
    "from sklearn.model_selection import train_test_split\n",
    "from sklearn.metrics import r2_score"
   ]
  },
  {
   "cell_type": "code",
   "execution_count": 38,
   "id": "bc377f0a-c8d7-4f10-b107-db8dc562f6bb",
   "metadata": {},
   "outputs": [],
   "source": [
    "# Load dataset\n",
    "df = pd.read_csv(\"../sim_og.csv\")"
   ]
  },
  {
   "cell_type": "code",
   "execution_count": 39,
   "id": "08b52f8a-46e7-4581-b292-0b0681a5d3b8",
   "metadata": {},
   "outputs": [],
   "source": [
    "X = df[['a', 'q', 'delta_e']].values\n",
    "y = df[['Cd']].values"
   ]
  },
  {
   "cell_type": "code",
   "execution_count": 40,
   "id": "dddc88df-1a62-484a-b6c1-41d48824daa9",
   "metadata": {},
   "outputs": [],
   "source": [
    "max_epochs = 5000\n",
    "hidden_neurons = 20\n",
    "learning_rate = 0.01\n",
    "activation_name = 'ReLU'\n",
    "optimizer_name = 'Adam'"
   ]
  },
  {
   "cell_type": "code",
   "execution_count": 41,
   "id": "46507d12-d94a-4e13-87d1-83df1aa9c47f",
   "metadata": {},
   "outputs": [],
   "source": [
    "# Data split (random_state changed every run for variation)\n",
    "X_temp, X_test, y_temp, y_test = train_test_split(X, y, test_size=0.10, random_state=42)\n",
    "X_train, X_val, y_train, y_val = train_test_split(X_temp, y_temp, test_size=0.1111, random_state=42)"
   ]
  },
  {
   "cell_type": "code",
   "execution_count": 42,
   "id": "2dc3867a-2be8-4fad-87f9-6954717509ad",
   "metadata": {},
   "outputs": [],
   "source": [
    "# Convert to tensors\n",
    "X_train = torch.tensor(X_train, dtype=torch.float32)\n",
    "y_train = torch.tensor(y_train, dtype=torch.float32)\n",
    "X_val   = torch.tensor(X_val, dtype=torch.float32)\n",
    "y_val   = torch.tensor(y_val, dtype=torch.float32)\n",
    "X_test  = torch.tensor(X_test, dtype=torch.float32)\n",
    "y_test  = torch.tensor(y_test, dtype=torch.float32)"
   ]
  },
  {
   "cell_type": "code",
   "execution_count": 43,
   "id": "aadac43f-017f-4fa9-b83a-50a7626be044",
   "metadata": {},
   "outputs": [],
   "source": [
    "class CFFN(nn.Module):\n",
    "    def __init__(self):\n",
    "        super(CFFN, self).__init__()\n",
    "        self.hidden = nn.Linear(3, 20)\n",
    "        self.relu = nn.ReLU()\n",
    "        self.out_from_hidden = nn.Linear(20, 1)\n",
    "        self.out_from_source = nn.Linear(3, 1)\n",
    "\n",
    "    def forward(self, x):\n",
    "        out = self.hidden(x)\n",
    "        out = self.relu(out)\n",
    "        out_h = self.out_from_hidden(out)\n",
    "        out_s = self.out_from_source(x)\n",
    "        out_final = out_s + out_h\n",
    "        return out_final"
   ]
  },
  {
   "cell_type": "code",
   "execution_count": 44,
   "id": "0b5fed15-39ed-49e6-9c87-bd0e0044b620",
   "metadata": {},
   "outputs": [],
   "source": [
    "model = CFFN()\n",
    "criterion = nn.MSELoss()\n",
    "optimizer = optim.Adam(model.parameters(), lr=learning_rate)"
   ]
  },
  {
   "cell_type": "code",
   "execution_count": 45,
   "id": "f918960a-0265-455f-965c-e59d30036279",
   "metadata": {},
   "outputs": [
    {
     "name": "stdout",
     "output_type": "stream",
     "text": [
      "Epoch 1000/5000, Train Loss: 8.063600398600101e-05, Val Loss: 8.743775106268004e-05\n",
      "Epoch 2000/5000, Train Loss: 2.0439911168068647e-05, Val Loss: 2.2296573661151342e-05\n",
      "Epoch 3000/5000, Train Loss: 9.63415459409589e-06, Val Loss: 1.060377780959243e-05\n",
      "Epoch 4000/5000, Train Loss: 5.769026756752282e-06, Val Loss: 6.544694315380184e-06\n",
      "Epoch 5000/5000, Train Loss: 4.004110451205634e-06, Val Loss: 4.3160530367458705e-06\n"
     ]
    }
   ],
   "source": [
    "#train the model\n",
    "actual_epoch = 0\n",
    "\n",
    "for epoch in range(max_epochs):\n",
    "    model.train()\n",
    "    outputs = model(X_train)\n",
    "    loss = criterion(outputs, y_train)\n",
    "\n",
    "    optimizer.zero_grad()\n",
    "    loss.backward()\n",
    "    optimizer.step()\n",
    "\n",
    "    actual_epoch = epoch + 1\n",
    "    \n",
    "    #validation\n",
    "    model.eval()\n",
    "    with torch.no_grad():\n",
    "        val_outputs = model(X_val)\n",
    "        val_loss = criterion(val_outputs, y_val)\n",
    "\n",
    "    if (epoch + 1) % 1000 == 0:\n",
    "        print(f\"Epoch {epoch+1}/{max_epochs}, Train Loss: {loss.item():}, Val Loss: {val_loss.item():}\")    "
   ]
  },
  {
   "cell_type": "code",
   "execution_count": 46,
   "id": "4dd9eda6-1d4b-4808-9002-193d2d615d73",
   "metadata": {},
   "outputs": [
    {
     "name": "stdout",
     "output_type": "stream",
     "text": [
      "R2 = 0.9999463507711245\n",
      "\n",
      "Training stopped at epoch 5000\n",
      "Final Train MSE: 4.004110451205634e-06\n",
      "Validation MSE: 4.3160530367458705e-06\n",
      "Test MSE: 4.469975010579219e-06\n"
     ]
    }
   ],
   "source": [
    "# Test the model\n",
    "model.eval()\n",
    "with torch.no_grad():\n",
    "    test_outputs = model(X_test)\n",
    "    test_loss = criterion(test_outputs, y_test)\n",
    "    mse = ((y_test - test_outputs) ** 2).mean().item()\n",
    "    r2 = r2_score(y_test, test_outputs)\n",
    "print(f'R2 = {r2}')\n",
    "print(f\"\\nTraining stopped at epoch {actual_epoch}\")\n",
    "print(f\"Final Train MSE: {loss.item():}\")\n",
    "print(f\"Validation MSE: {val_loss.item():}\")\n",
    "print(f\"Test MSE: {test_loss.item():}\")"
   ]
  },
  {
   "cell_type": "code",
   "execution_count": 47,
   "id": "a85725cf-d508-458d-8846-f0dad27fe3b6",
   "metadata": {},
   "outputs": [
    {
     "name": "stdout",
     "output_type": "stream",
     "text": [
      "Model saved as trained_cffn.pth\n"
     ]
    }
   ],
   "source": [
    "# Save the trained model\n",
    "torch.save(model.state_dict(), \"trained_cffn.pth\")\n",
    "print(\"Model saved as trained_cffn.pth\")"
   ]
  },
  {
   "cell_type": "code",
   "execution_count": null,
   "id": "ccbca373-43a4-4f4b-9a8b-5febf6a7b246",
   "metadata": {},
   "outputs": [],
   "source": []
  }
 ],
 "metadata": {
  "kernelspec": {
   "display_name": "Python 3 (ipykernel)",
   "language": "python",
   "name": "python3"
  },
  "language_info": {
   "codemirror_mode": {
    "name": "ipython",
    "version": 3
   },
   "file_extension": ".py",
   "mimetype": "text/x-python",
   "name": "python",
   "nbconvert_exporter": "python",
   "pygments_lexer": "ipython3",
   "version": "3.9.12"
  }
 },
 "nbformat": 4,
 "nbformat_minor": 5
}
