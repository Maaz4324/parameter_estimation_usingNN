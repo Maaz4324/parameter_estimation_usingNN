{
 "cells": [
  {
   "cell_type": "code",
   "execution_count": 27,
   "id": "83aa2e58-9ecd-4eb3-97d3-b9154e0e1efe",
   "metadata": {},
   "outputs": [],
   "source": [
    "import torch\n",
    "import torch.nn as nn\n",
    "import pandas as pd"
   ]
  },
  {
   "cell_type": "code",
   "execution_count": 28,
   "id": "c66d92e8-3f17-4d7c-b6fb-61bfdbeca8ac",
   "metadata": {},
   "outputs": [],
   "source": [
    "class CFFN(nn.Module):\n",
    "    def __init__(self):\n",
    "        super(CFFN, self).__init__()\n",
    "        self.hidden = nn.Linear(3, 20)\n",
    "        self.relu = nn.ReLU()\n",
    "        self.out_from_hidden = nn.Linear(20, 1)\n",
    "        self.out_from_source = nn.Linear(3, 1)\n",
    "\n",
    "    def forward(self, x):\n",
    "        out = self.hidden(x)\n",
    "        out = self.relu(out)\n",
    "        out_h = self.out_from_hidden(out)\n",
    "        out_s = self.out_from_source(x)\n",
    "        out_final = out_s + out_h\n",
    "        return out_final"
   ]
  },
  {
   "cell_type": "code",
   "execution_count": 29,
   "id": "5d567ad8-0d78-4f28-8613-8b4f3dda51e1",
   "metadata": {},
   "outputs": [],
   "source": [
    "# Parameters\n",
    "hidden_neurons = 20  # Use same as in training\n",
    "model_path = \"trained_cffn.pth\"\n",
    "csv_input_path = \"../flight_data_test.csv\"\n",
    "csv_output_path = \"predicted_output.csv\""
   ]
  },
  {
   "cell_type": "code",
   "execution_count": 30,
   "id": "453fbb2e-9a4d-4412-9dd4-687b0b607629",
   "metadata": {},
   "outputs": [],
   "source": [
    "\n",
    "# 1. Load input CSV\n",
    "df = pd.read_csv(csv_input_path)\n",
    "input_tensor = torch.tensor(df.values, dtype=torch.float32)  # shape: (N, 3)\n"
   ]
  },
  {
   "cell_type": "code",
   "execution_count": 31,
   "id": "c933277b-6c1f-441c-950d-12de16ecf1fd",
   "metadata": {},
   "outputs": [
    {
     "data": {
      "text/plain": [
       "CFFN(\n",
       "  (hidden): Linear(in_features=3, out_features=20, bias=True)\n",
       "  (relu): ReLU()\n",
       "  (out_from_hidden): Linear(in_features=20, out_features=1, bias=True)\n",
       "  (out_from_source): Linear(in_features=3, out_features=1, bias=True)\n",
       ")"
      ]
     },
     "execution_count": 31,
     "metadata": {},
     "output_type": "execute_result"
    }
   ],
   "source": [
    "\n",
    "# 2. Load model and weights\n",
    "model = CFFN()\n",
    "model.load_state_dict(torch.load(model_path))\n",
    "model.eval()"
   ]
  },
  {
   "cell_type": "code",
   "execution_count": 32,
   "id": "1e78fefa-9672-455f-9550-59a92ec17196",
   "metadata": {},
   "outputs": [],
   "source": [
    "# 3. Predict\n",
    "with torch.no_grad():\n",
    "    predictions = model(input_tensor)  # shape: (N, 3)"
   ]
  },
  {
   "cell_type": "code",
   "execution_count": 33,
   "id": "df9b778e-d41a-42d0-9fc8-a55afbf4a947",
   "metadata": {},
   "outputs": [
    {
     "name": "stdout",
     "output_type": "stream",
     "text": [
      "Predictions saved to predicted_output.csv\n"
     ]
    }
   ],
   "source": [
    "# 4. Save predictions to CSV\n",
    "pred_array = predictions.numpy()\n",
    "df_pred = pd.DataFrame(pred_array, columns=[\"Output1\"])\n",
    "df_combined = pd.concat([df, df_pred], axis=1)\n",
    "\n",
    "df_combined.to_csv(csv_output_path, index=False)\n",
    "print(f\"Predictions saved to {csv_output_path}\")"
   ]
  },
  {
   "cell_type": "code",
   "execution_count": null,
   "id": "2fd50e7d-4f91-462f-94e1-66a3afe2f372",
   "metadata": {},
   "outputs": [],
   "source": []
  }
 ],
 "metadata": {
  "kernelspec": {
   "display_name": "Python 3 (ipykernel)",
   "language": "python",
   "name": "python3"
  },
  "language_info": {
   "codemirror_mode": {
    "name": "ipython",
    "version": 3
   },
   "file_extension": ".py",
   "mimetype": "text/x-python",
   "name": "python",
   "nbconvert_exporter": "python",
   "pygments_lexer": "ipython3",
   "version": "3.9.12"
  }
 },
 "nbformat": 4,
 "nbformat_minor": 5
}
