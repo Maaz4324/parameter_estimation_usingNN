{
 "cells": [
  {
   "cell_type": "code",
   "execution_count": 38,
   "id": "5b3ec5ee-6147-42f0-99c0-d20e2f1178af",
   "metadata": {},
   "outputs": [],
   "source": [
    "import torch\n",
    "import torch.nn.functional as F\n",
    "import pandas as pd\n",
    "import numpy as np\n",
    "from sklearn.preprocessing import MinMaxScaler\n",
    "from sklearn.metrics import mean_squared_error, r2_score"
   ]
  },
  {
   "cell_type": "code",
   "execution_count": 39,
   "id": "4deea545-2660-4a2a-9993-c18dce347509",
   "metadata": {},
   "outputs": [],
   "source": [
    "\n",
    "class OSELM_PT:\n",
    "    def __init__(self, input_size, hidden_size, activation='sigmoid'):\n",
    "        self.input_size = input_size\n",
    "        self.hidden_size = hidden_size\n",
    "        self.activation = activation\n",
    "        self.device = torch.device(\"cpu\")\n",
    "\n",
    "        # Initialize input weights and biases randomly\n",
    "        self.input_weights = torch.randn(hidden_size, input_size, dtype=torch.float32).to(self.device)\n",
    "        self.biases = torch.randn(hidden_size, dtype=torch.float32).to(self.device)\n",
    "        self.beta = None\n",
    "        self.M = None\n",
    "\n",
    "    def _activation(self, x):\n",
    "        if self.activation == 'sigmoid':\n",
    "            return torch.sigmoid(x)\n",
    "        elif self.activation == 'tanh':\n",
    "            return torch.tanh(x)\n",
    "        elif self.activation == 'relu':\n",
    "            return F.relu(x)\n",
    "        else:\n",
    "            raise ValueError(\"Unsupported activation function\")\n",
    "\n",
    "    def _hidden_layer_output(self, X):\n",
    "        return self._activation(torch.matmul(X, self.input_weights.T) + self.biases)\n",
    "\n",
    "    def fit_initial(self, X0, T0):\n",
    "        H0 = self._hidden_layer_output(X0)\n",
    "        H0_T = H0.T\n",
    "        M = torch.linalg.pinv(H0_T @ H0)\n",
    "        self.M = M\n",
    "        self.beta = M @ H0_T @ T0\n",
    "\n",
    "    def update(self, Xn, Tn):\n",
    "        Hn = self._hidden_layer_output(Xn)\n",
    "        Hn_T = Hn.T\n",
    "        I = torch.eye(Hn.shape[0], dtype=torch.float32).to(self.device)\n",
    "\n",
    "        temp = torch.linalg.inv(I + Hn @ self.M @ Hn_T)\n",
    "        self.M = self.M - self.M @ Hn_T @ temp @ Hn @ self.M\n",
    "        self.beta = self.beta + self.M @ Hn_T @ (Tn - Hn @ self.beta)\n",
    "\n",
    "    def predict(self, X):\n",
    "        H = self._hidden_layer_output(X)\n",
    "        return H @ self.beta"
   ]
  },
  {
   "cell_type": "code",
   "execution_count": 40,
   "id": "601e7ce9-d1f1-446c-a7c5-cf920a7d4bf9",
   "metadata": {},
   "outputs": [],
   "source": [
    "# === Load CSV ===\n",
    "df = pd.read_csv(\"../Stud_Hansa_Sim_Flight_data.csv\")\n",
    "X = df.iloc[:, :3].values\n",
    "y = df.iloc[:, 3].values.reshape(-1, 1)"
   ]
  },
  {
   "cell_type": "code",
   "execution_count": 41,
   "id": "cac7c409-17a9-4911-8fec-58cc705377db",
   "metadata": {},
   "outputs": [],
   "source": [
    "# === Normalize ===\n",
    "scaler_X = MinMaxScaler()\n",
    "scaler_y = MinMaxScaler()\n",
    "X = scaler_X.fit_transform(X)\n",
    "y = scaler_y.fit_transform(y)"
   ]
  },
  {
   "cell_type": "code",
   "execution_count": 42,
   "id": "e07468ef-cb65-4539-97ec-84eaf4303734",
   "metadata": {},
   "outputs": [],
   "source": [
    "X = torch.tensor(X, dtype=torch.float32)\n",
    "y = torch.tensor(y, dtype=torch.float32)"
   ]
  },
  {
   "cell_type": "code",
   "execution_count": 43,
   "id": "d240d5c5-3a52-45cc-bb39-779119e1c99f",
   "metadata": {},
   "outputs": [],
   "source": [
    "\n",
    "# === Split ===\n",
    "initial_size = 30\n",
    "batch_size = 10\n",
    "\n",
    "X0 = X[:initial_size]\n",
    "y0 = y[:initial_size]\n",
    "X_seq = X[initial_size:]\n",
    "y_seq = y[initial_size:]\n"
   ]
  },
  {
   "cell_type": "code",
   "execution_count": 44,
   "id": "27fc9fad-f288-4f38-978d-fe441ca23232",
   "metadata": {},
   "outputs": [],
   "source": [
    "# === Train OS-ELM ===\n",
    "model = OSELM_PT(input_size=3, hidden_size=20, activation='sigmoid')\n",
    "model.fit_initial(X0, y0)\n",
    "\n",
    "for i in range(0, len(X_seq), batch_size):\n",
    "    X_batch = X_seq[i:i+batch_size]\n",
    "    y_batch = y_seq[i:i+batch_size]\n",
    "    model.update(X_batch, y_batch)"
   ]
  },
  {
   "cell_type": "code",
   "execution_count": 45,
   "id": "9e3551eb-a743-4178-b9ae-697265c5ac3d",
   "metadata": {},
   "outputs": [
    {
     "name": "stdout",
     "output_type": "stream",
     "text": [
      "MSE: 0.0000111596\n",
      "R² Score: 0.0595120192\n"
     ]
    }
   ],
   "source": [
    "\n",
    "# === Predict and Evaluate ===\n",
    "y_pred = model.predict(X).detach().numpy()\n",
    "y_pred_inv = scaler_y.inverse_transform(y_pred)\n",
    "y_true_inv = scaler_y.inverse_transform(y.numpy())\n",
    "\n",
    "mse = mean_squared_error(y_true_inv, y_pred_inv)\n",
    "r2 = r2_score(y_true_inv, y_pred_inv)\n",
    "\n",
    "print(f\"MSE: {mse:.10f}\")\n",
    "print(f\"R² Score: {r2:.10f}\")"
   ]
  },
  {
   "cell_type": "code",
   "execution_count": null,
   "id": "5dad4487-c578-4b3d-a2e5-8da3a2ea4e10",
   "metadata": {},
   "outputs": [],
   "source": []
  }
 ],
 "metadata": {
  "kernelspec": {
   "display_name": "Python 3 (ipykernel)",
   "language": "python",
   "name": "python3"
  },
  "language_info": {
   "codemirror_mode": {
    "name": "ipython",
    "version": 3
   },
   "file_extension": ".py",
   "mimetype": "text/x-python",
   "name": "python",
   "nbconvert_exporter": "python",
   "pygments_lexer": "ipython3",
   "version": "3.9.12"
  }
 },
 "nbformat": 4,
 "nbformat_minor": 5
}
