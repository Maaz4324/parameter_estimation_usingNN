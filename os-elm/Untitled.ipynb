{
 "cells": [
  {
   "cell_type": "code",
   "execution_count": 1,
   "id": "97e0ddb7-0b3d-4cdb-8678-9b2134c34234",
   "metadata": {},
   "outputs": [],
   "source": [
    "import torch\n",
    "import torch.nn.functional as F\n",
    "import matplotlib.pyplot as plt\n",
    "import numpy as np\n",
    "import pandas as pd\n",
    "from sklearn.model_selection import train_test_split\n",
    "from sklearn.metrics import mean_squared_error, r2_score\n",
    "import time"
   ]
  },
  {
   "cell_type": "code",
   "execution_count": 2,
   "id": "3d68c905-fa60-4e2e-8c9d-859dd2c2cd65",
   "metadata": {},
   "outputs": [],
   "source": [
    "# Load dataset\n",
    "df = pd.read_csv(\"../sim_og.csv\")"
   ]
  },
  {
   "cell_type": "code",
   "execution_count": 3,
   "id": "9e6c9b72-44d1-4f13-8451-adbaa7a1731f",
   "metadata": {},
   "outputs": [],
   "source": [
    "X = df[['a', 'q', 'delta_e']].values\n",
    "y = df[['Cd']].values"
   ]
  },
  {
   "cell_type": "code",
   "execution_count": 4,
   "id": "a91d2621-2337-4351-a4f0-35f56a05bbc5",
   "metadata": {},
   "outputs": [],
   "source": [
    "# Data split (random_state changed every run for variation)\n",
    "X_temp, X_test, y_temp, y_test = train_test_split(X, y, test_size=0.10, random_state=42)\n",
    "X_train, X_val, y_train, y_val = train_test_split(X_temp, y_temp, test_size=0.1111, random_state=42)"
   ]
  },
  {
   "cell_type": "code",
   "execution_count": 5,
   "id": "02ec6415-0f6d-413f-8f5c-d55557758191",
   "metadata": {},
   "outputs": [],
   "source": [
    "# Convert to tensors\n",
    "X_train = torch.tensor(X_train, dtype=torch.float32)\n",
    "y_train = torch.tensor(y_train, dtype=torch.float32)\n",
    "X_val   = torch.tensor(X_val, dtype=torch.float32)\n",
    "y_val   = torch.tensor(y_val, dtype=torch.float32)\n",
    "X_test  = torch.tensor(X_test, dtype=torch.float32)\n",
    "y_test  = torch.tensor(y_test, dtype=torch.float32)"
   ]
  },
  {
   "cell_type": "code",
   "execution_count": 6,
   "id": "13b1d1de-3f42-445b-ab1a-efdc3bf62cb4",
   "metadata": {},
   "outputs": [],
   "source": [
    "class ELM(torch.nn.Module):\n",
    "    def __init__(self, input_size, hidden_size, output_size):\n",
    "        super(ELM, self).__init__()\n",
    "        self.hidden_size = hidden_size\n",
    "        self.input_weights = torch.nn.Parameter(torch.randn(input_size, hidden_size) * 0.1, requires_grad=False)\n",
    "        self.biases = torch.nn.Parameter(torch.randn(hidden_size) * 0.1, requires_grad=False)\n",
    "        self.output_weights = None  # To be determined analytically\n",
    "\n",
    "    def forward(self, x):\n",
    "        H = torch.sigmoid(torch.add(torch.matmul(x, self.input_weights), self.biases))\n",
    "        return H"
   ]
  },
  {
   "cell_type": "code",
   "execution_count": 7,
   "id": "9a4c6427-d308-4b21-a862-b5256532db0d",
   "metadata": {},
   "outputs": [],
   "source": [
    "def train_elm(model, X, T):\n",
    "    start_time = time.time()  \n",
    "    with torch.no_grad():\n",
    "        H = model(X)\n",
    "        H_pseudo_inverse = torch.pinverse(H)\n",
    "        model.output_weights = torch.matmul(H_pseudo_inverse, T)\n",
    "    end_time = time.time()  \n",
    "    print(f\"Training Time: {end_time - start_time:.4f} seconds\")\n",
    "\n",
    "def predict(model, X):\n",
    "    start_time = time.time() \n",
    "    with torch.no_grad():\n",
    "        H = model(X)\n",
    "        predictions = torch.matmul(H, model.output_weights)\n",
    "        end_time = time.time() \n",
    "        print(f\"Prediction Time: {end_time - start_time:.4f} seconds\")\n",
    "        return predictions"
   ]
  },
  {
   "cell_type": "code",
   "execution_count": 8,
   "id": "7ecb874a-80a3-4be0-93cc-08734d5208ed",
   "metadata": {},
   "outputs": [],
   "source": [
    "# Model Configuration\n",
    "input_size = 3  # 28x28 pixels\n",
    "hidden_size = 20  # Number of hidden neurons\n",
    "output_size = 1  # Number of output classes"
   ]
  },
  {
   "cell_type": "code",
   "execution_count": 9,
   "id": "5407609b-08af-47c0-a674-4446f2b4cf52",
   "metadata": {},
   "outputs": [],
   "source": [
    "model = ELM(input_size, hidden_size, output_size)"
   ]
  },
  {
   "cell_type": "code",
   "execution_count": 10,
   "id": "e85e1eb3-5d1a-4403-8914-1df37e015d8e",
   "metadata": {},
   "outputs": [
    {
     "name": "stdout",
     "output_type": "stream",
     "text": [
      "Training Time: 0.1179 seconds\n"
     ]
    }
   ],
   "source": [
    "# Training\n",
    "train_elm(model, X_train, y_train)"
   ]
  },
  {
   "cell_type": "code",
   "execution_count": 11,
   "id": "7370b140-8a84-454d-9f17-e9d7eb1cce03",
   "metadata": {},
   "outputs": [
    {
     "name": "stdout",
     "output_type": "stream",
     "text": [
      "Prediction Time: 0.0047 seconds\n",
      "MSE: 1.5273641906787816e-08\n",
      "R² Score: 0.9999998211860657\n"
     ]
    }
   ],
   "source": [
    "# Testing\n",
    "y_pred = predict(model, X_test)\n",
    "\n",
    "# Evaluation\n",
    "mse = mean_squared_error(y_test.numpy(), y_pred.numpy())\n",
    "r2 = r2_score(y_test.numpy(), y_pred.numpy())\n",
    "\n",
    "print(f\"MSE: {mse:}\")\n",
    "print(f\"R² Score: {r2:}\")"
   ]
  },
  {
   "cell_type": "code",
   "execution_count": 12,
   "id": "9b766ad1-aeb9-4df8-b18f-0c385d16d6b8",
   "metadata": {},
   "outputs": [
    {
     "name": "stdout",
     "output_type": "stream",
     "text": [
      "Model saved as trained_elm.pth\n"
     ]
    }
   ],
   "source": [
    "# Save the trained model\n",
    "torch.save({\n",
    "    'input_weights': model.input_weights.data,\n",
    "    'biases': model.biases.data,\n",
    "    'output_weights': model.output_weights\n",
    "}, 'trained_elm.pth')\n",
    "print(\"Model saved as trained_elm.pth\")"
   ]
  },
  {
   "cell_type": "code",
   "execution_count": null,
   "id": "faea1ce3-0ff6-4707-a6d0-547e15d10b33",
   "metadata": {},
   "outputs": [],
   "source": []
  }
 ],
 "metadata": {
  "kernelspec": {
   "display_name": "Python 3 (ipykernel)",
   "language": "python",
   "name": "python3"
  },
  "language_info": {
   "codemirror_mode": {
    "name": "ipython",
    "version": 3
   },
   "file_extension": ".py",
   "mimetype": "text/x-python",
   "name": "python",
   "nbconvert_exporter": "python",
   "pygments_lexer": "ipython3",
   "version": "3.9.12"
  }
 },
 "nbformat": 4,
 "nbformat_minor": 5
}
