{
 "cells": [
  {
   "cell_type": "code",
   "execution_count": 651,
   "id": "a272c39f-794d-443b-a475-936e8295229f",
   "metadata": {},
   "outputs": [],
   "source": [
    "import pandas as pd\n",
    "import torch\n",
    "import torch.nn as nn\n",
    "import torch.optim as optim\n",
    "from sklearn.model_selection import train_test_split\n",
    "from sklearn.metrics import r2_score"
   ]
  },
  {
   "cell_type": "code",
   "execution_count": 652,
   "id": "88369b1d-98cf-4af5-9907-7e228be2dc15",
   "metadata": {},
   "outputs": [],
   "source": [
    "# Load dataset\n",
    "df = pd.read_csv(\"../sim_og_norm.csv\")"
   ]
  },
  {
   "cell_type": "code",
   "execution_count": 653,
   "id": "bc5f2174-7fde-41c3-976d-ca9c3421b787",
   "metadata": {},
   "outputs": [],
   "source": [
    "X = df[['a', 'q', 'delta_e']].values\n",
    "y = df[['Cd', 'Cl', 'Cm']].values"
   ]
  },
  {
   "cell_type": "code",
   "execution_count": 654,
   "id": "57e6630b-675a-4c5d-aeb3-58dbebe9e333",
   "metadata": {},
   "outputs": [],
   "source": [
    "# Threshold for early stopping\n",
    "mse_threshold = 1e-10"
   ]
  },
  {
   "cell_type": "code",
   "execution_count": 655,
   "id": "52adf7ab-109c-4960-8acb-a6b5c6713478",
   "metadata": {},
   "outputs": [],
   "source": [
    "max_epochs = 5000\n",
    "hidden_neurons = 20\n",
    "learning_rate = 0.01\n",
    "activation_name = 'ReLU'\n",
    "optimizer_name = 'Adam'"
   ]
  },
  {
   "cell_type": "code",
   "execution_count": 656,
   "id": "408fae17-b9a6-4e1c-9d49-95bc8e56036a",
   "metadata": {},
   "outputs": [],
   "source": [
    "# Data split (random_state changed every run for variation)\n",
    "X_temp, X_test, y_temp, y_test = train_test_split(X, y, test_size=0.10, random_state=42)\n",
    "X_train, X_val, y_train, y_val = train_test_split(X_temp, y_temp, test_size=0.1111, random_state=42)"
   ]
  },
  {
   "cell_type": "code",
   "execution_count": 657,
   "id": "f80f3ac7-c861-45bb-8bbe-c1711c051239",
   "metadata": {},
   "outputs": [],
   "source": [
    "# Convert to tensors\n",
    "X_train = torch.tensor(X_train, dtype=torch.float32)\n",
    "y_train = torch.tensor(y_train, dtype=torch.float32)\n",
    "X_val   = torch.tensor(X_val, dtype=torch.float32)\n",
    "y_val   = torch.tensor(y_val, dtype=torch.float32)\n",
    "X_test  = torch.tensor(X_test, dtype=torch.float32)\n",
    "y_test  = torch.tensor(y_test, dtype=torch.float32)"
   ]
  },
  {
   "cell_type": "code",
   "execution_count": 658,
   "id": "58258025-3408-49ad-a06f-c451b006bce5",
   "metadata": {},
   "outputs": [],
   "source": [
    "# Define model\n",
    "class SimpleNN(nn.Module):\n",
    "    def __init__(self):\n",
    "        super(SimpleNN, self).__init__()\n",
    "        self.linear1 = nn.Linear(3, hidden_neurons)\n",
    "        self.relu = nn.ReLU()\n",
    "        self.linear2 = nn.Linear(hidden_neurons, 3)\n",
    "\n",
    "    def forward(self, x):\n",
    "        x = self.linear1(x)\n",
    "        x = self.relu(x)\n",
    "        x = self.linear2(x)\n",
    "        return x"
   ]
  },
  {
   "cell_type": "code",
   "execution_count": 659,
   "id": "f8f6fdde-ea16-4d8a-953f-85adafccd91e",
   "metadata": {},
   "outputs": [],
   "source": [
    "model = SimpleNN()"
   ]
  },
  {
   "cell_type": "code",
   "execution_count": 660,
   "id": "10c1e3f4-5369-4808-8aa0-069233b61590",
   "metadata": {},
   "outputs": [],
   "source": [
    " # Loss and optimizer\n",
    "criterion = nn.MSELoss()\n",
    "optimizer = optim.Adam(model.parameters(), lr=learning_rate)"
   ]
  },
  {
   "cell_type": "code",
   "execution_count": 661,
   "id": "83ae7f2f-1fe4-4dba-a5a2-9e7f973be3af",
   "metadata": {},
   "outputs": [
    {
     "name": "stdout",
     "output_type": "stream",
     "text": [
      "Epoch 1000/5000, Train Loss: 2.9201552024460398e-05, Val Loss: 2.787209814414382e-05\n",
      "Epoch 2000/5000, Train Loss: 2.1019666746724397e-05, Val Loss: 2.1368869056459516e-05\n",
      "Epoch 3000/5000, Train Loss: 2.3427292035194114e-05, Val Loss: 2.19206322071841e-05\n",
      "Epoch 4000/5000, Train Loss: 2.4104332624119706e-05, Val Loss: 2.8217624276294373e-05\n",
      "Epoch 5000/5000, Train Loss: 1.5423958757310174e-05, Val Loss: 1.623871867195703e-05\n"
     ]
    }
   ],
   "source": [
    "# Train the model\n",
    "actual_epochs = 0\n",
    "for epoch in range(max_epochs):\n",
    "    model.train()\n",
    "    outputs = model(X_train)\n",
    "    loss = criterion(outputs, y_train)\n",
    "\n",
    "    optimizer.zero_grad()\n",
    "    loss.backward()\n",
    "    optimizer.step()\n",
    "\n",
    "    actual_epochs = epoch + 1  # Update epoch count\n",
    "\n",
    "    # Early stopping condition\n",
    "    if loss.item() < mse_threshold:\n",
    "        print(f\"Stopped early at epoch {actual_epochs} (Train Loss < {mse_threshold})\")\n",
    "        break\n",
    "\n",
    "    # Validation\n",
    "    model.eval()\n",
    "    with torch.no_grad():\n",
    "        val_outputs = model(X_val)\n",
    "        val_loss = criterion(val_outputs, y_val)\n",
    "\n",
    "    if (epoch + 1) % 1000 == 0:\n",
    "        print(f\"Epoch {epoch+1}/{max_epochs}, Train Loss: {loss.item():}, Val Loss: {val_loss.item():}\")"
   ]
  },
  {
   "cell_type": "code",
   "execution_count": 662,
   "id": "9321f045-949e-4049-b28b-4300f57903b8",
   "metadata": {},
   "outputs": [
    {
     "name": "stdout",
     "output_type": "stream",
     "text": [
      "R2 = 0.999904755567338\n",
      "\n",
      "Training stopped at epoch 5000\n",
      "Final Train MSE: 1.5423958757310174e-05\n",
      "Validation MSE: 1.623871867195703e-05\n",
      "Test MSE: 1.5263136447174475e-05\n"
     ]
    }
   ],
   "source": [
    "# Test the model\n",
    "model.eval()\n",
    "with torch.no_grad():\n",
    "    test_outputs = model(X_test)\n",
    "    test_loss = criterion(test_outputs, y_test)\n",
    "    mse = ((y_test - test_outputs) ** 2).mean().item()\n",
    "    r2 = r2_score(y_test, test_outputs)\n",
    "print(f'R2 = {r2}')\n",
    "print(f\"\\nTraining stopped at epoch {actual_epochs}\")\n",
    "print(f\"Final Train MSE: {loss.item():}\")\n",
    "print(f\"Validation MSE: {val_loss.item():}\")\n",
    "print(f\"Test MSE: {test_loss.item():}\")"
   ]
  },
  {
   "cell_type": "code",
   "execution_count": 663,
   "id": "09748c28-485d-4544-a14b-d35ef5123e03",
   "metadata": {},
   "outputs": [
    {
     "name": "stdout",
     "output_type": "stream",
     "text": [
      "Model saved as trained_ffnn.pth\n"
     ]
    }
   ],
   "source": [
    "# Save the trained model\n",
    "torch.save(model.state_dict(), \"trained_ffnn.pth\")\n",
    "print(\"Model saved as trained_ffnn.pth\")"
   ]
  },
  {
   "cell_type": "code",
   "execution_count": null,
   "id": "a6e2f880-b052-419d-a089-3ff26f5d51ae",
   "metadata": {},
   "outputs": [],
   "source": []
  }
 ],
 "metadata": {
  "kernelspec": {
   "display_name": "Python 3 (ipykernel)",
   "language": "python",
   "name": "python3"
  },
  "language_info": {
   "codemirror_mode": {
    "name": "ipython",
    "version": 3
   },
   "file_extension": ".py",
   "mimetype": "text/x-python",
   "name": "python",
   "nbconvert_exporter": "python",
   "pygments_lexer": "ipython3",
   "version": "3.9.12"
  }
 },
 "nbformat": 4,
 "nbformat_minor": 5
}
