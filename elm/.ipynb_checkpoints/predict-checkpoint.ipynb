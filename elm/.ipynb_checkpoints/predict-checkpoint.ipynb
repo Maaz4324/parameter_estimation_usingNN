{
 "cells": [
  {
   "cell_type": "code",
   "execution_count": 35,
   "id": "83aa2e58-9ecd-4eb3-97d3-b9154e0e1efe",
   "metadata": {},
   "outputs": [],
   "source": [
    "import torch\n",
    "import torch.nn as nn\n",
    "import pandas as pd"
   ]
  },
  {
   "cell_type": "code",
   "execution_count": 36,
   "id": "07e5d875-8903-4eeb-877e-e999a439aa0e",
   "metadata": {},
   "outputs": [],
   "source": [
    "# --- Load input features from CSV ---\n",
    "df = pd.read_csv(\"../hansa_test.csv\")  \n",
    "input_tensor = torch.tensor(df.values, dtype=torch.float32)  # shape: (N, features)"
   ]
  },
  {
   "cell_type": "code",
   "execution_count": 37,
   "id": "c66d92e8-3f17-4d7c-b6fb-61bfdbeca8ac",
   "metadata": {},
   "outputs": [],
   "source": [
    "# Define your ELM class (same structure used while saving)\n",
    "class ELM(torch.nn.Module):\n",
    "    def __init__(self, input_size, hidden_size, output_size):\n",
    "        super(ELM, self).__init__()\n",
    "        self.hidden_size = hidden_size\n",
    "        self.input_weights = torch.nn.Parameter(torch.empty(input_size, hidden_size), requires_grad=False)\n",
    "        self.biases = torch.nn.Parameter(torch.empty(hidden_size), requires_grad=False)\n",
    "        self.output_weights = None\n",
    "\n",
    "    def forward(self, x):\n",
    "        H = torch.sigmoid(torch.matmul(x, self.input_weights) + self.biases)\n",
    "        return H\n",
    "\n",
    "    def predict(self, x):\n",
    "        H = self.forward(x)\n",
    "        return torch.matmul(H, self.output_weights)"
   ]
  },
  {
   "cell_type": "code",
   "execution_count": 38,
   "id": "b49ff62e-ba70-4403-a884-995d52856c20",
   "metadata": {},
   "outputs": [],
   "source": [
    "# --- Step 1: Load the model checkpoint ---\n",
    "checkpoint = torch.load(\"trained_elm.pth\")\n",
    "\n",
    "input_size = checkpoint[\"input_weights\"].shape[0]\n",
    "hidden_size = checkpoint[\"input_weights\"].shape[1]\n",
    "output_size = checkpoint[\"output_weights\"].shape[1]\n",
    "\n",
    "model = ELM(input_size, hidden_size, output_size)\n",
    "model.input_weights.data = checkpoint[\"input_weights\"]\n",
    "model.biases.data = checkpoint[\"biases\"]\n",
    "model.output_weights = checkpoint[\"output_weights\"]"
   ]
  },
  {
   "cell_type": "code",
   "execution_count": 39,
   "id": "453fbb2e-9a4d-4412-9dd4-687b0b607629",
   "metadata": {},
   "outputs": [],
   "source": [
    "# --- Step 3: Predict using loaded model ---\n",
    "with torch.no_grad():\n",
    "    y_pred = model.predict(input_tensor).numpy()"
   ]
  },
  {
   "cell_type": "code",
   "execution_count": 40,
   "id": "c933277b-6c1f-441c-950d-12de16ecf1fd",
   "metadata": {},
   "outputs": [
    {
     "name": "stdout",
     "output_type": "stream",
     "text": [
      "Predictions saved to 'predicted_outputs.csv'\n"
     ]
    }
   ],
   "source": [
    "# --- Step 4: Save output to CSV ---\n",
    "df_out = df.copy()\n",
    "for i in range(y_pred.shape[1]):\n",
    "    df_out[f\"prediction_{i}\"] = y_pred[:, i]\n",
    "\n",
    "df_out.to_csv(\"predicted_outputs.csv\", index=False)\n",
    "print(\"Predictions saved to 'predicted_outputs.csv'\")"
   ]
  },
  {
   "cell_type": "code",
   "execution_count": null,
   "id": "2fd50e7d-4f91-462f-94e1-66a3afe2f372",
   "metadata": {},
   "outputs": [],
   "source": []
  }
 ],
 "metadata": {
  "kernelspec": {
   "display_name": "Python 3 (ipykernel)",
   "language": "python",
   "name": "python3"
  },
  "language_info": {
   "codemirror_mode": {
    "name": "ipython",
    "version": 3
   },
   "file_extension": ".py",
   "mimetype": "text/x-python",
   "name": "python",
   "nbconvert_exporter": "python",
   "pygments_lexer": "ipython3",
   "version": "3.9.12"
  }
 },
 "nbformat": 4,
 "nbformat_minor": 5
}
