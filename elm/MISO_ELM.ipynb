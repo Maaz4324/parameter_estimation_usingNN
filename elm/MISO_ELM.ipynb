{
 "cells": [
  {
   "cell_type": "code",
   "execution_count": 197,
   "id": "602c8b24-5334-496e-81fa-9b9e16706049",
   "metadata": {},
   "outputs": [],
   "source": [
    "import torch\n",
    "import torch.nn.functional as F\n",
    "import matplotlib.pyplot as plt\n",
    "import numpy as np\n",
    "import pandas as pd\n",
    "from sklearn.model_selection import train_test_split\n",
    "from sklearn.metrics import mean_squared_error, r2_score\n",
    "import time"
   ]
  },
  {
   "cell_type": "code",
   "execution_count": 198,
   "id": "2471cdeb-a8e8-4436-991f-633afb329870",
   "metadata": {},
   "outputs": [],
   "source": [
    "# Load dataset\n",
    "df = pd.read_csv(\"../sim_og.csv\")"
   ]
  },
  {
   "cell_type": "code",
   "execution_count": 199,
   "id": "622097d5-d8bc-4e59-987c-cb5ce91c170f",
   "metadata": {},
   "outputs": [],
   "source": [
    "X = df[['a', 'q', 'delta_e']].values\n",
    "y = df[['Cd']].values"
   ]
  },
  {
   "cell_type": "code",
   "execution_count": 200,
   "id": "dd620aa4-d001-4f95-8879-52b63c6226fa",
   "metadata": {},
   "outputs": [],
   "source": [
    "# Data split (random_state changed every run for variation)\n",
    "X_temp, X_test, y_temp, y_test = train_test_split(X, y, test_size=0.10, random_state=42)\n",
    "X_train, X_val, y_train, y_val = train_test_split(X_temp, y_temp, test_size=0.1111, random_state=42)"
   ]
  },
  {
   "cell_type": "code",
   "execution_count": 201,
   "id": "81f9b8e4-e10e-436a-8a65-1e20afbea0db",
   "metadata": {},
   "outputs": [],
   "source": [
    "# Convert to tensors\n",
    "X_train = torch.tensor(X_train, dtype=torch.float32)\n",
    "y_train = torch.tensor(y_train, dtype=torch.float32)\n",
    "X_val   = torch.tensor(X_val, dtype=torch.float32)\n",
    "y_val   = torch.tensor(y_val, dtype=torch.float32)\n",
    "X_test  = torch.tensor(X_test, dtype=torch.float32)\n",
    "y_test  = torch.tensor(y_test, dtype=torch.float32)"
   ]
  },
  {
   "cell_type": "code",
   "execution_count": 202,
   "id": "b59e836a-c36f-4d93-aed9-749b74c4835a",
   "metadata": {},
   "outputs": [],
   "source": [
    "class ELM(torch.nn.Module):\n",
    "    def __init__(self, input_size, hidden_size, output_size):\n",
    "        super(ELM, self).__init__()\n",
    "        self.hidden_size = hidden_size\n",
    "        self.input_weights = torch.nn.Parameter(torch.randn(input_size, hidden_size) * 0.1, requires_grad=False)\n",
    "        self.biases = torch.nn.Parameter(torch.randn(hidden_size) * 0.1, requires_grad=False)\n",
    "        self.output_weights = None  # To be determined analytically\n",
    "\n",
    "    def forward(self, x):\n",
    "        H = torch.sigmoid(torch.add(torch.matmul(x, self.input_weights), self.biases))\n",
    "        return H"
   ]
  },
  {
   "cell_type": "code",
   "execution_count": 203,
   "id": "eff213b9-be9f-4d6d-9b82-c5f28e957f22",
   "metadata": {},
   "outputs": [],
   "source": [
    "def train_elm(model, X, T):\n",
    "    start_time = time.time()  \n",
    "    with torch.no_grad():\n",
    "        H = model(X)\n",
    "        H_pseudo_inverse = torch.pinverse(H)\n",
    "        model.output_weights = torch.matmul(H_pseudo_inverse, T)\n",
    "    end_time = time.time()  \n",
    "    print(f\"Training Time: {end_time - start_time:.4f} seconds\")\n",
    "\n",
    "def predict(model, X):\n",
    "    start_time = time.time() \n",
    "    with torch.no_grad():\n",
    "        H = model(X)\n",
    "        predictions = torch.matmul(H, model.output_weights)\n",
    "        end_time = time.time() \n",
    "        print(f\"Prediction Time: {end_time - start_time:.4f} seconds\")\n",
    "        return predictions"
   ]
  },
  {
   "cell_type": "code",
   "execution_count": 204,
   "id": "d94cd6e4-33cf-43c4-be06-27fab0b5a306",
   "metadata": {},
   "outputs": [],
   "source": [
    "# Model Configuration\n",
    "input_size = 3  # 28x28 pixels\n",
    "hidden_size = 20  # Number of hidden neurons\n",
    "output_size = 1  # Number of output classes"
   ]
  },
  {
   "cell_type": "code",
   "execution_count": 205,
   "id": "dd72d20b-9a1e-4a28-bfd0-922fe9746937",
   "metadata": {},
   "outputs": [],
   "source": [
    "model = ELM(input_size, hidden_size, output_size)"
   ]
  },
  {
   "cell_type": "code",
   "execution_count": 206,
   "id": "67aebd00-b742-4c20-86a5-1de78e645d26",
   "metadata": {},
   "outputs": [
    {
     "name": "stdout",
     "output_type": "stream",
     "text": [
      "Training Time: 0.0032 seconds\n"
     ]
    }
   ],
   "source": [
    "# Training\n",
    "train_elm(model, X_train, y_train)"
   ]
  },
  {
   "cell_type": "code",
   "execution_count": 207,
   "id": "c2056eec-6739-49ad-bfdc-0658a557640a",
   "metadata": {},
   "outputs": [
    {
     "name": "stdout",
     "output_type": "stream",
     "text": [
      "Prediction Time: 0.0010 seconds\n",
      "MSE: 6.876659597310208e-08\n",
      "R² Score: 0.9999991655349731\n"
     ]
    }
   ],
   "source": [
    "# Testing\n",
    "y_pred = predict(model, X_test)\n",
    "\n",
    "# Evaluation\n",
    "mse = mean_squared_error(y_test.numpy(), y_pred.numpy())\n",
    "r2 = r2_score(y_test.numpy(), y_pred.numpy())\n",
    "\n",
    "print(f\"MSE: {mse:}\")\n",
    "print(f\"R² Score: {r2:}\")"
   ]
  },
  {
   "cell_type": "code",
   "execution_count": 208,
   "id": "83aea0f2-995e-4e40-b0b7-72da19e0a54d",
   "metadata": {},
   "outputs": [
    {
     "name": "stdout",
     "output_type": "stream",
     "text": [
      "Model saved as trained_elm.pth\n"
     ]
    }
   ],
   "source": [
    "# Save the trained model\n",
    "torch.save({\n",
    "    'input_weights': model.input_weights.data,\n",
    "    'biases': model.biases.data,\n",
    "    'output_weights': model.output_weights\n",
    "}, 'trained_elm.pth')\n",
    "print(\"Model saved as trained_elm.pth\")"
   ]
  },
  {
   "cell_type": "code",
   "execution_count": null,
   "id": "c7da8cb9-bfec-4459-a0dd-088c8b3a2bb3",
   "metadata": {},
   "outputs": [],
   "source": []
  }
 ],
 "metadata": {
  "kernelspec": {
   "display_name": "Python 3 (ipykernel)",
   "language": "python",
   "name": "python3"
  },
  "language_info": {
   "codemirror_mode": {
    "name": "ipython",
    "version": 3
   },
   "file_extension": ".py",
   "mimetype": "text/x-python",
   "name": "python",
   "nbconvert_exporter": "python",
   "pygments_lexer": "ipython3",
   "version": "3.9.12"
  }
 },
 "nbformat": 4,
 "nbformat_minor": 5
}
